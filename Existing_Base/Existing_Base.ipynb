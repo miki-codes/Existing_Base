{
  "nbformat": 4,
  "nbformat_minor": 0,
  "metadata": {
    "colab": {
      "provenance": []
    },
    "kernelspec": {
      "name": "python3",
      "display_name": "Python 3"
    },
    "language_info": {
      "name": "python"
    }
  },
  "cells": [
    {
      "cell_type": "code",
      "execution_count": null,
      "metadata": {
        "id": "gMAxuo43Rhqi"
      },
      "outputs": [],
      "source": [
        "import pandas as pd\n",
        "import numpy as np\n",
        "from sklearn.model_selection import train_test_split\n",
        "from sklearn.preprocessing import OneHotEncoder\n",
        "import pickle"
      ]
    },
    {
      "cell_type": "code",
      "source": [
        "raw_data = pd.read_csv('Existing_Base.csv')"
      ],
      "metadata": {
        "id": "aqZw3UMcRn0j"
      },
      "execution_count": null,
      "outputs": []
    },
    {
      "cell_type": "code",
      "source": [
        "raw_data.info()"
      ],
      "metadata": {
        "colab": {
          "base_uri": "https://localhost:8080/"
        },
        "id": "cF0mlgh0R1cc",
        "outputId": "85ce88ef-b295-4224-9933-375925d9baad"
      },
      "execution_count": null,
      "outputs": [
        {
          "output_type": "stream",
          "name": "stdout",
          "text": [
            "<class 'pandas.core.frame.DataFrame'>\n",
            "RangeIndex: 10155 entries, 0 to 10154\n",
            "Data columns (total 32 columns):\n",
            " #   Column                           Non-Null Count  Dtype  \n",
            "---  ------                           --------------  -----  \n",
            " 0   REF_NO                           10155 non-null  int64  \n",
            " 1   children                         10155 non-null  object \n",
            " 2   age_band                         10155 non-null  object \n",
            " 3   status                           10155 non-null  object \n",
            " 4   occupation                       10155 non-null  object \n",
            " 5   occupation_partner               10155 non-null  object \n",
            " 6   home_status                      10155 non-null  object \n",
            " 7   family_income                    10155 non-null  object \n",
            " 8   self_employed                    10155 non-null  object \n",
            " 9   self_employed_partner            10155 non-null  object \n",
            " 10  year_last_moved                  10155 non-null  int64  \n",
            " 11  TVarea                           10155 non-null  object \n",
            " 12  post_code                        10155 non-null  object \n",
            " 13  post_area                        10155 non-null  object \n",
            " 14  Average Credit Card Transaction  10155 non-null  float64\n",
            " 15  Balance Transfer                 10155 non-null  float64\n",
            " 16  Term Deposit                     10155 non-null  float64\n",
            " 17  Life Insurance                   10155 non-null  float64\n",
            " 18  Medical Insurance                10155 non-null  float64\n",
            " 19  Average A/C Balance              10155 non-null  float64\n",
            " 20  Personal Loan                    10155 non-null  float64\n",
            " 21  Investment in Mutual Fund        10155 non-null  float64\n",
            " 22  Investment Tax Saving Bond       10155 non-null  float64\n",
            " 23  Home Loan                        10155 non-null  float64\n",
            " 24  Online Purchase Amount           10155 non-null  float64\n",
            " 25  Revenue Grid                     10155 non-null  int64  \n",
            " 26  gender                           10155 non-null  object \n",
            " 27  region                           10155 non-null  object \n",
            " 28  Investment in Commudity          10155 non-null  float64\n",
            " 29  Investment in Equity             10155 non-null  float64\n",
            " 30  Investment in Derivative         10155 non-null  float64\n",
            " 31  Portfolio Balance                10155 non-null  float64\n",
            "dtypes: float64(15), int64(3), object(14)\n",
            "memory usage: 2.5+ MB\n"
          ]
        }
      ]
    },
    {
      "cell_type": "code",
      "source": [
        "targets=raw_data['Revenue Grid']\n",
        "features=raw_data.drop(['Revenue Grid'], axis=1)"
      ],
      "metadata": {
        "id": "pMdIpZa2SVi7"
      },
      "execution_count": null,
      "outputs": []
    },
    {
      "cell_type": "code",
      "source": [
        "features_train, features_val, target_train, target_val = train_test_split(\n",
        "    features, targets, test_size=0.2, random_state=42, stratify=targets)"
      ],
      "metadata": {
        "id": "dzq_JHAYR_QH"
      },
      "execution_count": null,
      "outputs": []
    },
    {
      "cell_type": "code",
      "source": [
        "features_train.reset_index(drop=True, inplace=True)\n",
        "features_val.reset_index(drop=True, inplace=True)\n",
        "target_train.reset_index(drop=True, inplace=True)\n",
        "target_val.reset_index(drop=True, inplace=True)"
      ],
      "metadata": {
        "id": "dVD5imUiRwHg"
      },
      "execution_count": null,
      "outputs": []
    },
    {
      "cell_type": "code",
      "source": [
        "features_train.shape, features_val.shape, target_train.shape, target_val.shape"
      ],
      "metadata": {
        "colab": {
          "base_uri": "https://localhost:8080/"
        },
        "id": "jNtT3bduS3gf",
        "outputId": "4044790a-5dea-4344-d69c-a4a0508683cf"
      },
      "execution_count": null,
      "outputs": [
        {
          "output_type": "execute_result",
          "data": {
            "text/plain": [
              "((8124, 31), (2031, 31), (8124,), (2031,))"
            ]
          },
          "metadata": {},
          "execution_count": 82
        }
      ]
    },
    {
      "cell_type": "code",
      "source": [
        "target_val.value_counts(normalize=True)"
      ],
      "metadata": {
        "colab": {
          "base_uri": "https://localhost:8080/"
        },
        "id": "Bpo2BY_hTRIN",
        "outputId": "325813f2-471e-48eb-fcdc-587df13dd396"
      },
      "execution_count": null,
      "outputs": [
        {
          "output_type": "execute_result",
          "data": {
            "text/plain": [
              "2    0.893156\n",
              "1    0.106844\n",
              "Name: Revenue Grid, dtype: float64"
            ]
          },
          "metadata": {},
          "execution_count": 83
        }
      ]
    },
    {
      "cell_type": "markdown",
      "source": [
        "##Data exploration\n"
      ],
      "metadata": {
        "id": "Ty4K31MMUdLk"
      }
    },
    {
      "cell_type": "code",
      "source": [
        "features_train.info()"
      ],
      "metadata": {
        "colab": {
          "base_uri": "https://localhost:8080/"
        },
        "id": "snUyyprFUcRF",
        "outputId": "c59df39c-2aa7-4f81-d733-e39184c003d5"
      },
      "execution_count": null,
      "outputs": [
        {
          "output_type": "stream",
          "name": "stdout",
          "text": [
            "<class 'pandas.core.frame.DataFrame'>\n",
            "RangeIndex: 8124 entries, 0 to 8123\n",
            "Data columns (total 31 columns):\n",
            " #   Column                           Non-Null Count  Dtype  \n",
            "---  ------                           --------------  -----  \n",
            " 0   REF_NO                           8124 non-null   int64  \n",
            " 1   children                         8124 non-null   object \n",
            " 2   age_band                         8124 non-null   object \n",
            " 3   status                           8124 non-null   object \n",
            " 4   occupation                       8124 non-null   object \n",
            " 5   occupation_partner               8124 non-null   object \n",
            " 6   home_status                      8124 non-null   object \n",
            " 7   family_income                    8124 non-null   object \n",
            " 8   self_employed                    8124 non-null   object \n",
            " 9   self_employed_partner            8124 non-null   object \n",
            " 10  year_last_moved                  8124 non-null   int64  \n",
            " 11  TVarea                           8124 non-null   object \n",
            " 12  post_code                        8124 non-null   object \n",
            " 13  post_area                        8124 non-null   object \n",
            " 14  Average Credit Card Transaction  8124 non-null   float64\n",
            " 15  Balance Transfer                 8124 non-null   float64\n",
            " 16  Term Deposit                     8124 non-null   float64\n",
            " 17  Life Insurance                   8124 non-null   float64\n",
            " 18  Medical Insurance                8124 non-null   float64\n",
            " 19  Average A/C Balance              8124 non-null   float64\n",
            " 20  Personal Loan                    8124 non-null   float64\n",
            " 21  Investment in Mutual Fund        8124 non-null   float64\n",
            " 22  Investment Tax Saving Bond       8124 non-null   float64\n",
            " 23  Home Loan                        8124 non-null   float64\n",
            " 24  Online Purchase Amount           8124 non-null   float64\n",
            " 25  gender                           8124 non-null   object \n",
            " 26  region                           8124 non-null   object \n",
            " 27  Investment in Commudity          8124 non-null   float64\n",
            " 28  Investment in Equity             8124 non-null   float64\n",
            " 29  Investment in Derivative         8124 non-null   float64\n",
            " 30  Portfolio Balance                8124 non-null   float64\n",
            "dtypes: float64(15), int64(2), object(14)\n",
            "memory usage: 1.9+ MB\n"
          ]
        }
      ]
    },
    {
      "cell_type": "code",
      "source": [
        "features_train['children'].nunique()\n",
        "features_train['children'].value_counts()"
      ],
      "metadata": {
        "colab": {
          "base_uri": "https://localhost:8080/"
        },
        "id": "G-9AhHrlbAYz",
        "outputId": "cf9c6526-d92e-4630-f63e-8edc99efb9b8"
      },
      "execution_count": null,
      "outputs": [
        {
          "output_type": "execute_result",
          "data": {
            "text/plain": [
              "Zero    4991\n",
              "1       1473\n",
              "2       1277\n",
              "3        368\n",
              "4+        15\n",
              "Name: children, dtype: int64"
            ]
          },
          "metadata": {},
          "execution_count": 85
        }
      ]
    },
    {
      "cell_type": "code",
      "source": [
        "uniq_values = features_train['children'].unique()\n",
        "print(uniq_values)"
      ],
      "metadata": {
        "colab": {
          "base_uri": "https://localhost:8080/"
        },
        "id": "uDuE0UisgC41",
        "outputId": "6b48592b-8976-443a-9440-b349162ef281"
      },
      "execution_count": null,
      "outputs": [
        {
          "output_type": "stream",
          "name": "stdout",
          "text": [
            "['2' '1' '3' 'Zero' '4+']\n"
          ]
        }
      ]
    },
    {
      "cell_type": "code",
      "source": [
        "train_uniq_values = {}\n",
        "\n",
        "def children_numeric_converter(children_data, unique_values):\n",
        "  children_data[~(children_data.isin(unique_values))] = \"Zero\" # This replaces every other value to Zero\n",
        "  children_data[children_data=='Zero'] = 0  # Converts Zero to numeric 0\n",
        "  children_data[children_data=='4+'] = 4    # Converts 4+ to 4\n",
        "  children_data = pd.to_numeric(children_data) # Converts children_data to numeric\n",
        "  return children_data\n",
        "\n",
        "\n",
        "features_train['children'].nunique()\n",
        "\n",
        "features_train['children'].value_counts()\n",
        "\n",
        "uniq_values = features_train['children'].unique()\n",
        "\n",
        "children_numeric = children_numeric_converter(features_train['children'], uniq_values)\n",
        "\n",
        "features_train.drop(['children'], axis=1, inplace=True) ### drops the children column\n",
        "\n",
        "features_train['children'] = children_numeric\n",
        "\n",
        "train_uniq_values['children'] = uniq_values.tolist()"
      ],
      "metadata": {
        "colab": {
          "base_uri": "https://localhost:8080/"
        },
        "id": "jaSmMdrWWSBy",
        "outputId": "173d4083-9d0d-48b8-a9ad-a9ae52c759c3"
      },
      "execution_count": null,
      "outputs": [
        {
          "output_type": "stream",
          "name": "stderr",
          "text": [
            "<ipython-input-87-ac33f4a49943>:4: SettingWithCopyWarning: \n",
            "A value is trying to be set on a copy of a slice from a DataFrame\n",
            "\n",
            "See the caveats in the documentation: https://pandas.pydata.org/pandas-docs/stable/user_guide/indexing.html#returning-a-view-versus-a-copy\n",
            "  children_data[~(children_data.isin(unique_values))] = \"Zero\" # This replaces every other value to Zero\n",
            "<ipython-input-87-ac33f4a49943>:5: SettingWithCopyWarning: \n",
            "A value is trying to be set on a copy of a slice from a DataFrame\n",
            "\n",
            "See the caveats in the documentation: https://pandas.pydata.org/pandas-docs/stable/user_guide/indexing.html#returning-a-view-versus-a-copy\n",
            "  children_data[children_data=='Zero'] = 0  # Converts Zero to numeric 0\n",
            "<ipython-input-87-ac33f4a49943>:6: SettingWithCopyWarning: \n",
            "A value is trying to be set on a copy of a slice from a DataFrame\n",
            "\n",
            "See the caveats in the documentation: https://pandas.pydata.org/pandas-docs/stable/user_guide/indexing.html#returning-a-view-versus-a-copy\n",
            "  children_data[children_data=='4+'] = 4    # Converts 4+ to 4\n"
          ]
        }
      ]
    },
    {
      "cell_type": "code",
      "source": [
        "#features_train['post_code'].nunique()\n",
        "#features_train['post_area'].nunique()\n",
        "\n",
        "columns_remove=[]\n",
        "\n",
        "\n",
        "features_train.drop(['post_code', 'post_area', 'REF_NO'], axis=1, inplace=True)\n",
        "columns_remove.extend(['post_code', 'post_area', 'REF_NO'])"
      ],
      "metadata": {
        "id": "6BEMAPEtYam0"
      },
      "execution_count": null,
      "outputs": []
    },
    {
      "cell_type": "code",
      "source": [
        "features_train.head()"
      ],
      "metadata": {
        "colab": {
          "base_uri": "https://localhost:8080/",
          "height": 377
        },
        "id": "Ble4awsthXoE",
        "outputId": "cf22f163-5411-41a8-c20c-43bd4f87e7a0"
      },
      "execution_count": null,
      "outputs": [
        {
          "output_type": "execute_result",
          "data": {
            "text/plain": [
              "  age_band   status occupation occupation_partner home_status  \\\n",
              "0    31-35  Partner  Housewife              Other    Own Home   \n",
              "1    31-35  Partner  Housewife       Professional    Own Home   \n",
              "2    31-35  Partner  Housewife       Professional    Own Home   \n",
              "3    51-55  Partner  Housewife       Professional    Own Home   \n",
              "4    26-30  Partner      Other      Manual Worker    Own Home   \n",
              "\n",
              "       family_income self_employed self_employed_partner  year_last_moved  \\\n",
              "0           >=35,000            No                    No             1988   \n",
              "1  <30,000, >=27,500            No                    No             1995   \n",
              "2  <27,500, >=25,000            No                    No             1987   \n",
              "3           >=35,000            No                   Yes             1982   \n",
              "4  <25,000, >=22,500            No                    No             1988   \n",
              "\n",
              "    TVarea  ...  Investment Tax Saving Bond  Home Loan  \\\n",
              "0  Granada  ...                        0.00       8.99   \n",
              "1  Carlton  ...                        5.98       7.98   \n",
              "2   Ulster  ...                        4.99       0.00   \n",
              "3  Central  ...                        0.00       0.00   \n",
              "4  Granada  ...                        0.00       0.00   \n",
              "\n",
              "   Online Purchase Amount  gender            region  Investment in Commudity  \\\n",
              "0                     0.0  Female        North West                    31.88   \n",
              "1                     0.0  Female        South East                    69.21   \n",
              "2                     0.0  Female  Northern Ireland                    24.68   \n",
              "3                     0.0  Female     West Midlands                     0.00   \n",
              "4                     0.0  Female        North West                    38.58   \n",
              "\n",
              "   Investment in Equity  Investment in Derivative  Portfolio Balance  children  \n",
              "0                  8.90                     16.65              53.28         2  \n",
              "1                 23.05                     46.74             127.76         1  \n",
              "2                  6.74                     18.90              62.98         2  \n",
              "3                 18.66                     18.66              48.14         1  \n",
              "4                 20.07                     52.21             132.89         3  \n",
              "\n",
              "[5 rows x 28 columns]"
            ],
            "text/html": [
              "\n",
              "  <div id=\"df-a8948b70-463d-4219-870e-29e863b69191\" class=\"colab-df-container\">\n",
              "    <div>\n",
              "<style scoped>\n",
              "    .dataframe tbody tr th:only-of-type {\n",
              "        vertical-align: middle;\n",
              "    }\n",
              "\n",
              "    .dataframe tbody tr th {\n",
              "        vertical-align: top;\n",
              "    }\n",
              "\n",
              "    .dataframe thead th {\n",
              "        text-align: right;\n",
              "    }\n",
              "</style>\n",
              "<table border=\"1\" class=\"dataframe\">\n",
              "  <thead>\n",
              "    <tr style=\"text-align: right;\">\n",
              "      <th></th>\n",
              "      <th>age_band</th>\n",
              "      <th>status</th>\n",
              "      <th>occupation</th>\n",
              "      <th>occupation_partner</th>\n",
              "      <th>home_status</th>\n",
              "      <th>family_income</th>\n",
              "      <th>self_employed</th>\n",
              "      <th>self_employed_partner</th>\n",
              "      <th>year_last_moved</th>\n",
              "      <th>TVarea</th>\n",
              "      <th>...</th>\n",
              "      <th>Investment Tax Saving Bond</th>\n",
              "      <th>Home Loan</th>\n",
              "      <th>Online Purchase Amount</th>\n",
              "      <th>gender</th>\n",
              "      <th>region</th>\n",
              "      <th>Investment in Commudity</th>\n",
              "      <th>Investment in Equity</th>\n",
              "      <th>Investment in Derivative</th>\n",
              "      <th>Portfolio Balance</th>\n",
              "      <th>children</th>\n",
              "    </tr>\n",
              "  </thead>\n",
              "  <tbody>\n",
              "    <tr>\n",
              "      <th>0</th>\n",
              "      <td>31-35</td>\n",
              "      <td>Partner</td>\n",
              "      <td>Housewife</td>\n",
              "      <td>Other</td>\n",
              "      <td>Own Home</td>\n",
              "      <td>&gt;=35,000</td>\n",
              "      <td>No</td>\n",
              "      <td>No</td>\n",
              "      <td>1988</td>\n",
              "      <td>Granada</td>\n",
              "      <td>...</td>\n",
              "      <td>0.00</td>\n",
              "      <td>8.99</td>\n",
              "      <td>0.0</td>\n",
              "      <td>Female</td>\n",
              "      <td>North West</td>\n",
              "      <td>31.88</td>\n",
              "      <td>8.90</td>\n",
              "      <td>16.65</td>\n",
              "      <td>53.28</td>\n",
              "      <td>2</td>\n",
              "    </tr>\n",
              "    <tr>\n",
              "      <th>1</th>\n",
              "      <td>31-35</td>\n",
              "      <td>Partner</td>\n",
              "      <td>Housewife</td>\n",
              "      <td>Professional</td>\n",
              "      <td>Own Home</td>\n",
              "      <td>&lt;30,000, &gt;=27,500</td>\n",
              "      <td>No</td>\n",
              "      <td>No</td>\n",
              "      <td>1995</td>\n",
              "      <td>Carlton</td>\n",
              "      <td>...</td>\n",
              "      <td>5.98</td>\n",
              "      <td>7.98</td>\n",
              "      <td>0.0</td>\n",
              "      <td>Female</td>\n",
              "      <td>South East</td>\n",
              "      <td>69.21</td>\n",
              "      <td>23.05</td>\n",
              "      <td>46.74</td>\n",
              "      <td>127.76</td>\n",
              "      <td>1</td>\n",
              "    </tr>\n",
              "    <tr>\n",
              "      <th>2</th>\n",
              "      <td>31-35</td>\n",
              "      <td>Partner</td>\n",
              "      <td>Housewife</td>\n",
              "      <td>Professional</td>\n",
              "      <td>Own Home</td>\n",
              "      <td>&lt;27,500, &gt;=25,000</td>\n",
              "      <td>No</td>\n",
              "      <td>No</td>\n",
              "      <td>1987</td>\n",
              "      <td>Ulster</td>\n",
              "      <td>...</td>\n",
              "      <td>4.99</td>\n",
              "      <td>0.00</td>\n",
              "      <td>0.0</td>\n",
              "      <td>Female</td>\n",
              "      <td>Northern Ireland</td>\n",
              "      <td>24.68</td>\n",
              "      <td>6.74</td>\n",
              "      <td>18.90</td>\n",
              "      <td>62.98</td>\n",
              "      <td>2</td>\n",
              "    </tr>\n",
              "    <tr>\n",
              "      <th>3</th>\n",
              "      <td>51-55</td>\n",
              "      <td>Partner</td>\n",
              "      <td>Housewife</td>\n",
              "      <td>Professional</td>\n",
              "      <td>Own Home</td>\n",
              "      <td>&gt;=35,000</td>\n",
              "      <td>No</td>\n",
              "      <td>Yes</td>\n",
              "      <td>1982</td>\n",
              "      <td>Central</td>\n",
              "      <td>...</td>\n",
              "      <td>0.00</td>\n",
              "      <td>0.00</td>\n",
              "      <td>0.0</td>\n",
              "      <td>Female</td>\n",
              "      <td>West Midlands</td>\n",
              "      <td>0.00</td>\n",
              "      <td>18.66</td>\n",
              "      <td>18.66</td>\n",
              "      <td>48.14</td>\n",
              "      <td>1</td>\n",
              "    </tr>\n",
              "    <tr>\n",
              "      <th>4</th>\n",
              "      <td>26-30</td>\n",
              "      <td>Partner</td>\n",
              "      <td>Other</td>\n",
              "      <td>Manual Worker</td>\n",
              "      <td>Own Home</td>\n",
              "      <td>&lt;25,000, &gt;=22,500</td>\n",
              "      <td>No</td>\n",
              "      <td>No</td>\n",
              "      <td>1988</td>\n",
              "      <td>Granada</td>\n",
              "      <td>...</td>\n",
              "      <td>0.00</td>\n",
              "      <td>0.00</td>\n",
              "      <td>0.0</td>\n",
              "      <td>Female</td>\n",
              "      <td>North West</td>\n",
              "      <td>38.58</td>\n",
              "      <td>20.07</td>\n",
              "      <td>52.21</td>\n",
              "      <td>132.89</td>\n",
              "      <td>3</td>\n",
              "    </tr>\n",
              "  </tbody>\n",
              "</table>\n",
              "<p>5 rows × 28 columns</p>\n",
              "</div>\n",
              "    <div class=\"colab-df-buttons\">\n",
              "\n",
              "  <div class=\"colab-df-container\">\n",
              "    <button class=\"colab-df-convert\" onclick=\"convertToInteractive('df-a8948b70-463d-4219-870e-29e863b69191')\"\n",
              "            title=\"Convert this dataframe to an interactive table.\"\n",
              "            style=\"display:none;\">\n",
              "\n",
              "  <svg xmlns=\"http://www.w3.org/2000/svg\" height=\"24px\" viewBox=\"0 -960 960 960\">\n",
              "    <path d=\"M120-120v-720h720v720H120Zm60-500h600v-160H180v160Zm220 220h160v-160H400v160Zm0 220h160v-160H400v160ZM180-400h160v-160H180v160Zm440 0h160v-160H620v160ZM180-180h160v-160H180v160Zm440 0h160v-160H620v160Z\"/>\n",
              "  </svg>\n",
              "    </button>\n",
              "\n",
              "  <style>\n",
              "    .colab-df-container {\n",
              "      display:flex;\n",
              "      gap: 12px;\n",
              "    }\n",
              "\n",
              "    .colab-df-convert {\n",
              "      background-color: #E8F0FE;\n",
              "      border: none;\n",
              "      border-radius: 50%;\n",
              "      cursor: pointer;\n",
              "      display: none;\n",
              "      fill: #1967D2;\n",
              "      height: 32px;\n",
              "      padding: 0 0 0 0;\n",
              "      width: 32px;\n",
              "    }\n",
              "\n",
              "    .colab-df-convert:hover {\n",
              "      background-color: #E2EBFA;\n",
              "      box-shadow: 0px 1px 2px rgba(60, 64, 67, 0.3), 0px 1px 3px 1px rgba(60, 64, 67, 0.15);\n",
              "      fill: #174EA6;\n",
              "    }\n",
              "\n",
              "    .colab-df-buttons div {\n",
              "      margin-bottom: 4px;\n",
              "    }\n",
              "\n",
              "    [theme=dark] .colab-df-convert {\n",
              "      background-color: #3B4455;\n",
              "      fill: #D2E3FC;\n",
              "    }\n",
              "\n",
              "    [theme=dark] .colab-df-convert:hover {\n",
              "      background-color: #434B5C;\n",
              "      box-shadow: 0px 1px 3px 1px rgba(0, 0, 0, 0.15);\n",
              "      filter: drop-shadow(0px 1px 2px rgba(0, 0, 0, 0.3));\n",
              "      fill: #FFFFFF;\n",
              "    }\n",
              "  </style>\n",
              "\n",
              "    <script>\n",
              "      const buttonEl =\n",
              "        document.querySelector('#df-a8948b70-463d-4219-870e-29e863b69191 button.colab-df-convert');\n",
              "      buttonEl.style.display =\n",
              "        google.colab.kernel.accessAllowed ? 'block' : 'none';\n",
              "\n",
              "      async function convertToInteractive(key) {\n",
              "        const element = document.querySelector('#df-a8948b70-463d-4219-870e-29e863b69191');\n",
              "        const dataTable =\n",
              "          await google.colab.kernel.invokeFunction('convertToInteractive',\n",
              "                                                    [key], {});\n",
              "        if (!dataTable) return;\n",
              "\n",
              "        const docLinkHtml = 'Like what you see? Visit the ' +\n",
              "          '<a target=\"_blank\" href=https://colab.research.google.com/notebooks/data_table.ipynb>data table notebook</a>'\n",
              "          + ' to learn more about interactive tables.';\n",
              "        element.innerHTML = '';\n",
              "        dataTable['output_type'] = 'display_data';\n",
              "        await google.colab.output.renderOutput(dataTable, element);\n",
              "        const docLink = document.createElement('div');\n",
              "        docLink.innerHTML = docLinkHtml;\n",
              "        element.appendChild(docLink);\n",
              "      }\n",
              "    </script>\n",
              "  </div>\n",
              "\n",
              "\n",
              "<div id=\"df-9af63242-b999-4b50-bd79-d4e0409e22e3\">\n",
              "  <button class=\"colab-df-quickchart\" onclick=\"quickchart('df-9af63242-b999-4b50-bd79-d4e0409e22e3')\"\n",
              "            title=\"Suggest charts\"\n",
              "            style=\"display:none;\">\n",
              "\n",
              "<svg xmlns=\"http://www.w3.org/2000/svg\" height=\"24px\"viewBox=\"0 0 24 24\"\n",
              "     width=\"24px\">\n",
              "    <g>\n",
              "        <path d=\"M19 3H5c-1.1 0-2 .9-2 2v14c0 1.1.9 2 2 2h14c1.1 0 2-.9 2-2V5c0-1.1-.9-2-2-2zM9 17H7v-7h2v7zm4 0h-2V7h2v10zm4 0h-2v-4h2v4z\"/>\n",
              "    </g>\n",
              "</svg>\n",
              "  </button>\n",
              "\n",
              "<style>\n",
              "  .colab-df-quickchart {\n",
              "      --bg-color: #E8F0FE;\n",
              "      --fill-color: #1967D2;\n",
              "      --hover-bg-color: #E2EBFA;\n",
              "      --hover-fill-color: #174EA6;\n",
              "      --disabled-fill-color: #AAA;\n",
              "      --disabled-bg-color: #DDD;\n",
              "  }\n",
              "\n",
              "  [theme=dark] .colab-df-quickchart {\n",
              "      --bg-color: #3B4455;\n",
              "      --fill-color: #D2E3FC;\n",
              "      --hover-bg-color: #434B5C;\n",
              "      --hover-fill-color: #FFFFFF;\n",
              "      --disabled-bg-color: #3B4455;\n",
              "      --disabled-fill-color: #666;\n",
              "  }\n",
              "\n",
              "  .colab-df-quickchart {\n",
              "    background-color: var(--bg-color);\n",
              "    border: none;\n",
              "    border-radius: 50%;\n",
              "    cursor: pointer;\n",
              "    display: none;\n",
              "    fill: var(--fill-color);\n",
              "    height: 32px;\n",
              "    padding: 0;\n",
              "    width: 32px;\n",
              "  }\n",
              "\n",
              "  .colab-df-quickchart:hover {\n",
              "    background-color: var(--hover-bg-color);\n",
              "    box-shadow: 0 1px 2px rgba(60, 64, 67, 0.3), 0 1px 3px 1px rgba(60, 64, 67, 0.15);\n",
              "    fill: var(--button-hover-fill-color);\n",
              "  }\n",
              "\n",
              "  .colab-df-quickchart-complete:disabled,\n",
              "  .colab-df-quickchart-complete:disabled:hover {\n",
              "    background-color: var(--disabled-bg-color);\n",
              "    fill: var(--disabled-fill-color);\n",
              "    box-shadow: none;\n",
              "  }\n",
              "\n",
              "  .colab-df-spinner {\n",
              "    border: 2px solid var(--fill-color);\n",
              "    border-color: transparent;\n",
              "    border-bottom-color: var(--fill-color);\n",
              "    animation:\n",
              "      spin 1s steps(1) infinite;\n",
              "  }\n",
              "\n",
              "  @keyframes spin {\n",
              "    0% {\n",
              "      border-color: transparent;\n",
              "      border-bottom-color: var(--fill-color);\n",
              "      border-left-color: var(--fill-color);\n",
              "    }\n",
              "    20% {\n",
              "      border-color: transparent;\n",
              "      border-left-color: var(--fill-color);\n",
              "      border-top-color: var(--fill-color);\n",
              "    }\n",
              "    30% {\n",
              "      border-color: transparent;\n",
              "      border-left-color: var(--fill-color);\n",
              "      border-top-color: var(--fill-color);\n",
              "      border-right-color: var(--fill-color);\n",
              "    }\n",
              "    40% {\n",
              "      border-color: transparent;\n",
              "      border-right-color: var(--fill-color);\n",
              "      border-top-color: var(--fill-color);\n",
              "    }\n",
              "    60% {\n",
              "      border-color: transparent;\n",
              "      border-right-color: var(--fill-color);\n",
              "    }\n",
              "    80% {\n",
              "      border-color: transparent;\n",
              "      border-right-color: var(--fill-color);\n",
              "      border-bottom-color: var(--fill-color);\n",
              "    }\n",
              "    90% {\n",
              "      border-color: transparent;\n",
              "      border-bottom-color: var(--fill-color);\n",
              "    }\n",
              "  }\n",
              "</style>\n",
              "\n",
              "  <script>\n",
              "    async function quickchart(key) {\n",
              "      const quickchartButtonEl =\n",
              "        document.querySelector('#' + key + ' button');\n",
              "      quickchartButtonEl.disabled = true;  // To prevent multiple clicks.\n",
              "      quickchartButtonEl.classList.add('colab-df-spinner');\n",
              "      try {\n",
              "        const charts = await google.colab.kernel.invokeFunction(\n",
              "            'suggestCharts', [key], {});\n",
              "      } catch (error) {\n",
              "        console.error('Error during call to suggestCharts:', error);\n",
              "      }\n",
              "      quickchartButtonEl.classList.remove('colab-df-spinner');\n",
              "      quickchartButtonEl.classList.add('colab-df-quickchart-complete');\n",
              "    }\n",
              "    (() => {\n",
              "      let quickchartButtonEl =\n",
              "        document.querySelector('#df-9af63242-b999-4b50-bd79-d4e0409e22e3 button');\n",
              "      quickchartButtonEl.style.display =\n",
              "        google.colab.kernel.accessAllowed ? 'block' : 'none';\n",
              "    })();\n",
              "  </script>\n",
              "</div>\n",
              "\n",
              "    </div>\n",
              "  </div>\n"
            ]
          },
          "metadata": {},
          "execution_count": 89
        }
      ]
    },
    {
      "cell_type": "code",
      "source": [
        "features_train['age_band'].nunique()"
      ],
      "metadata": {
        "colab": {
          "base_uri": "https://localhost:8080/"
        },
        "id": "paj38w71h7X-",
        "outputId": "289565c1-7090-4cc3-a5c5-cb79379a8b6d"
      },
      "execution_count": null,
      "outputs": [
        {
          "output_type": "execute_result",
          "data": {
            "text/plain": [
              "13"
            ]
          },
          "metadata": {},
          "execution_count": 90
        }
      ]
    },
    {
      "cell_type": "code",
      "source": [
        "features_train['age_band'].value_counts()"
      ],
      "metadata": {
        "colab": {
          "base_uri": "https://localhost:8080/"
        },
        "id": "wyCTaXlzhiIj",
        "outputId": "d9efc31b-995f-482a-de9f-85fdc9be71f6"
      },
      "execution_count": null,
      "outputs": [
        {
          "output_type": "execute_result",
          "data": {
            "text/plain": [
              "45-50      1095\n",
              "36-40       921\n",
              "41-45       886\n",
              "55-60       851\n",
              "51-55       845\n",
              "31-35       831\n",
              "26-30       742\n",
              "61-65       681\n",
              "65-70       482\n",
              "22-25       367\n",
              "71+         327\n",
              "18-21        53\n",
              "Unknown      43\n",
              "Name: age_band, dtype: int64"
            ]
          },
          "metadata": {},
          "execution_count": 91
        }
      ]
    },
    {
      "cell_type": "code",
      "source": [
        "def ageband_numeric_converter(ageband_data, uniq_values):\n",
        "\n",
        "  def __split(x):\n",
        "    splits = x.split('-')\n",
        "    left_val = splits[0]\n",
        "    right_val = splits[1]\n",
        "    mean = (float(left_val) + float(right_val))/2\n",
        "    return mean\n",
        "\n",
        "  ageband_data[~(ageband_data.isin(uniq_values))] = '45-50'\n",
        "  ageband_data[ageband_data=='71+'] = '71-75'\n",
        "  ageband_data[ageband_data=='Unknown'] = '45-50'\n",
        "  mean_vals = ageband_data.apply(__split)\n",
        "  return mean_vals\n",
        "\n",
        "\n",
        "features_train['age_band'].nunique()\n",
        "\n",
        "features_train['age_band']. value_counts()\n",
        "\n",
        "ageband_unique = features_train['age_band'].unique()\n",
        "\n",
        "numeric_age_band = ageband_numeric_converter(features_train['age_band'], ageband_unique)\n",
        "\n",
        "features_train.drop(['age_band'], axis=1)\n",
        "\n",
        "features_train['age_band'] = numeric_age_band\n",
        "\n",
        "train_uniq_values['age_band'] = ageband_unique.tolist()"
      ],
      "metadata": {
        "colab": {
          "base_uri": "https://localhost:8080/"
        },
        "id": "Lxo7MEsaiM4P",
        "outputId": "89ca12a5-d223-4899-cd71-0d304d232062"
      },
      "execution_count": null,
      "outputs": [
        {
          "output_type": "stream",
          "name": "stderr",
          "text": [
            "<ipython-input-92-55a4bd3bb36e>:10: SettingWithCopyWarning: \n",
            "A value is trying to be set on a copy of a slice from a DataFrame\n",
            "\n",
            "See the caveats in the documentation: https://pandas.pydata.org/pandas-docs/stable/user_guide/indexing.html#returning-a-view-versus-a-copy\n",
            "  ageband_data[~(ageband_data.isin(uniq_values))] = '45-50'\n",
            "<ipython-input-92-55a4bd3bb36e>:11: SettingWithCopyWarning: \n",
            "A value is trying to be set on a copy of a slice from a DataFrame\n",
            "\n",
            "See the caveats in the documentation: https://pandas.pydata.org/pandas-docs/stable/user_guide/indexing.html#returning-a-view-versus-a-copy\n",
            "  ageband_data[ageband_data=='71+'] = '71-75'\n",
            "<ipython-input-92-55a4bd3bb36e>:12: SettingWithCopyWarning: \n",
            "A value is trying to be set on a copy of a slice from a DataFrame\n",
            "\n",
            "See the caveats in the documentation: https://pandas.pydata.org/pandas-docs/stable/user_guide/indexing.html#returning-a-view-versus-a-copy\n",
            "  ageband_data[ageband_data=='Unknown'] = '45-50'\n"
          ]
        }
      ]
    },
    {
      "cell_type": "code",
      "source": [
        "features_train['gender'].value_counts()"
      ],
      "metadata": {
        "colab": {
          "base_uri": "https://localhost:8080/"
        },
        "id": "t1NtjFXAdyV_",
        "outputId": "db877469-e443-4a8b-d45d-65bff6ab9f7d"
      },
      "execution_count": null,
      "outputs": [
        {
          "output_type": "execute_result",
          "data": {
            "text/plain": [
              "Female     6122\n",
              "Male       1975\n",
              "Unknown      27\n",
              "Name: gender, dtype: int64"
            ]
          },
          "metadata": {},
          "execution_count": 93
        }
      ]
    },
    {
      "cell_type": "code",
      "source": [
        "def gender_numeric_converter(gender_data, uniq_values):\n",
        "  gender_data[~(gender_data.isin(uniq_values))] = 'Female'\n",
        "  gender_data[gender_data=='Unknown'] = 'Female'\n",
        "  gender_data[gender_data=='Male'] = 0\n",
        "  gender_data[gender_data=='Female'] = 1\n",
        "  gender_data = pd.to_numeric(gender_data)\n",
        "  return gender_data\n",
        "\n",
        "gender_uniq = features_train['gender'].unique()\n",
        "\n",
        "gender_numeric = gender_numeric_converter(features_train['gender'], gender_uniq)\n",
        "\n",
        "features_train.drop(['gender'], axis=1, inplace=True)\n",
        "\n",
        "features_train['gender'] = gender_numeric\n",
        "\n",
        "train_uniq_values['gender'] = gender_uniq.tolist()"
      ],
      "metadata": {
        "colab": {
          "base_uri": "https://localhost:8080/"
        },
        "id": "_Tuk_sUYgkVt",
        "outputId": "348fd07d-56f9-4c39-bb18-bb05eb700092"
      },
      "execution_count": null,
      "outputs": [
        {
          "output_type": "stream",
          "name": "stderr",
          "text": [
            "<ipython-input-94-0953923cf2b2>:2: SettingWithCopyWarning: \n",
            "A value is trying to be set on a copy of a slice from a DataFrame\n",
            "\n",
            "See the caveats in the documentation: https://pandas.pydata.org/pandas-docs/stable/user_guide/indexing.html#returning-a-view-versus-a-copy\n",
            "  gender_data[~(gender_data.isin(uniq_values))] = 'Female'\n",
            "<ipython-input-94-0953923cf2b2>:3: SettingWithCopyWarning: \n",
            "A value is trying to be set on a copy of a slice from a DataFrame\n",
            "\n",
            "See the caveats in the documentation: https://pandas.pydata.org/pandas-docs/stable/user_guide/indexing.html#returning-a-view-versus-a-copy\n",
            "  gender_data[gender_data=='Unknown'] = 'Female'\n",
            "<ipython-input-94-0953923cf2b2>:4: SettingWithCopyWarning: \n",
            "A value is trying to be set on a copy of a slice from a DataFrame\n",
            "\n",
            "See the caveats in the documentation: https://pandas.pydata.org/pandas-docs/stable/user_guide/indexing.html#returning-a-view-versus-a-copy\n",
            "  gender_data[gender_data=='Male'] = 0\n",
            "<ipython-input-94-0953923cf2b2>:5: SettingWithCopyWarning: \n",
            "A value is trying to be set on a copy of a slice from a DataFrame\n",
            "\n",
            "See the caveats in the documentation: https://pandas.pydata.org/pandas-docs/stable/user_guide/indexing.html#returning-a-view-versus-a-copy\n",
            "  gender_data[gender_data=='Female'] = 1\n"
          ]
        }
      ]
    },
    {
      "cell_type": "code",
      "source": [
        "missing_value_replacement = {}\n",
        "missing_value_replacement['status'] = ['Partner']\n",
        "missing_value_replacement['occupation'] = ['Professional']\n",
        "missing_value_replacement['occupation_partner'] = ['Unknown', 'Professional']\n",
        "missing_value_replacement['home_status'] = ['Own Home']\n",
        "missing_value_replacement['self_employed'] = [\"No\"]\n",
        "missing_value_replacement['self_employed_partner'] = [\"No\"]\n",
        "missing_value_replacement['TVarea'] = [\"Central\", \"Carlton\", \"Meridian\"]\n",
        "missing_value_replacement['region'] = [\"South East\"]\n",
        "missing_value_replacement['family_income'] = [\">=35,000\"]\n",
        "missing_value_replacement['Average Credit Card Transaction'] = [0.0]\n",
        "missing_value_replacement['Balance Transfer'] = [16.975]\n",
        "missing_value_replacement['Life Insurance'] = [30.0]\n",
        "missing_value_replacement['Medical Insurance'] = [0.0]\n",
        "missing_value_replacement['Average A/C Balance'] = [15.00]\n",
        "missing_value_replacement['Personal Loan'] = [0.0]\n",
        "missing_value_replacement['Investment in Mutual Fund'] = [23.47]\n",
        "missing_value_replacement['Investment Tax Saving Bond'] = [0.0]\n",
        "missing_value_replacement['Home Loan'] = [0.0]\n",
        "missing_value_replacement['Online Purchase Amount'] = [0.0]\n",
        "missing_value_replacement['Investment in Commudity'] = [23.79]\n",
        "missing_value_replacement['Investment in Equity'] = [12.82]\n",
        "missing_value_replacement['Investment in Derivative'] = [20.89]\n",
        "missing_value_replacement['Portfolio Balance'] = [65.38]"
      ],
      "metadata": {
        "id": "HSpX8JKKeGW_"
      },
      "execution_count": null,
      "outputs": []
    },
    {
      "cell_type": "code",
      "source": [
        "####### Finding replacement values for the other columns #######\n",
        "features_train.describe()"
      ],
      "metadata": {
        "colab": {
          "base_uri": "https://localhost:8080/",
          "height": 355
        },
        "id": "VIPZn4KRhCHJ",
        "outputId": "254cf7d2-5d91-453f-e212-37fe2192128d"
      },
      "execution_count": null,
      "outputs": [
        {
          "output_type": "execute_result",
          "data": {
            "text/plain": [
              "          age_band  year_last_moved  Average Credit Card Transaction  \\\n",
              "count  8124.000000      8124.000000                      8124.000000   \n",
              "mean     46.533050      1968.430822                        23.536013   \n",
              "std      13.511666       179.942993                        51.008213   \n",
              "min      19.500000         0.000000                         0.000000   \n",
              "25%      38.000000      1978.000000                         0.000000   \n",
              "50%      47.500000      1988.000000                         0.000000   \n",
              "75%      57.500000      1994.000000                        23.980000   \n",
              "max      73.000000      1999.000000                       662.260000   \n",
              "\n",
              "       Balance Transfer  Term Deposit  Life Insurance  Medical Insurance  \\\n",
              "count       8124.000000   8124.000000     8124.000000        8124.000000   \n",
              "mean          45.848500     26.857107       64.896397          18.816137   \n",
              "std           79.870499     53.022363       94.681534          32.094002   \n",
              "min            0.000000      0.000000        0.000000           0.000000   \n",
              "25%            0.000000      0.000000        0.000000           0.000000   \n",
              "50%           16.975000      0.000000       30.000000           0.010000   \n",
              "75%           64.970000     34.490000       92.932500          26.970000   \n",
              "max         2951.760000    784.820000     2930.410000         591.040000   \n",
              "\n",
              "       Average A/C Balance  Personal Loan  Investment in Mutual Fund  \\\n",
              "count          8124.000000    8124.000000                8124.000000   \n",
              "mean             31.832499      25.705244                  41.928358   \n",
              "std              45.166539      88.237940                  64.665153   \n",
              "min               0.000000       0.000000                   0.000000   \n",
              "25%               0.000000       0.000000                   0.000000   \n",
              "50%              14.990000       0.000000                  23.470000   \n",
              "75%              45.952500      20.980000                  59.460000   \n",
              "max             626.240000    4905.930000                2561.270000   \n",
              "\n",
              "       Investment Tax Saving Bond    Home Loan  Online Purchase Amount  \\\n",
              "count                 8124.000000  8124.000000             8124.000000   \n",
              "mean                     6.055491     4.401269               19.354365   \n",
              "std                     12.737090     9.809771               93.045927   \n",
              "min                      0.000000     0.000000                0.000000   \n",
              "25%                      0.000000     0.000000                0.000000   \n",
              "50%                      0.000000     0.000000                0.000000   \n",
              "75%                      5.490000     4.490000                7.980000   \n",
              "max                    138.560000   162.350000             4306.420000   \n",
              "\n",
              "       Investment in Commudity  Investment in Equity  \\\n",
              "count              8124.000000           8124.000000   \n",
              "mean                 35.991018             21.546958   \n",
              "std                  42.117391             32.826080   \n",
              "min                   0.000000              0.000000   \n",
              "25%                   8.090000              4.500000   \n",
              "50%                  23.790000             12.820000   \n",
              "75%                  50.127500             27.962500   \n",
              "max                1231.090000           1279.100000   \n",
              "\n",
              "       Investment in Derivative  Portfolio Balance     children       gender  \n",
              "count               8124.000000        8124.000000  8124.000000  8124.000000  \n",
              "mean                  31.539849          89.368669     0.638971     0.756893  \n",
              "std                   39.877961         108.716211     0.916030     0.428985  \n",
              "min                    0.000000         -77.230000     0.000000     0.000000  \n",
              "25%                    8.500000          26.375000     0.000000     1.000000  \n",
              "50%                   20.895000          65.385000     0.000000     1.000000  \n",
              "75%                   42.392500         125.015000     1.000000     1.000000  \n",
              "max                 1771.160000        4283.560000     4.000000     1.000000  "
            ],
            "text/html": [
              "\n",
              "  <div id=\"df-7d12c809-841a-442b-986b-d1f2f490d066\" class=\"colab-df-container\">\n",
              "    <div>\n",
              "<style scoped>\n",
              "    .dataframe tbody tr th:only-of-type {\n",
              "        vertical-align: middle;\n",
              "    }\n",
              "\n",
              "    .dataframe tbody tr th {\n",
              "        vertical-align: top;\n",
              "    }\n",
              "\n",
              "    .dataframe thead th {\n",
              "        text-align: right;\n",
              "    }\n",
              "</style>\n",
              "<table border=\"1\" class=\"dataframe\">\n",
              "  <thead>\n",
              "    <tr style=\"text-align: right;\">\n",
              "      <th></th>\n",
              "      <th>age_band</th>\n",
              "      <th>year_last_moved</th>\n",
              "      <th>Average Credit Card Transaction</th>\n",
              "      <th>Balance Transfer</th>\n",
              "      <th>Term Deposit</th>\n",
              "      <th>Life Insurance</th>\n",
              "      <th>Medical Insurance</th>\n",
              "      <th>Average A/C Balance</th>\n",
              "      <th>Personal Loan</th>\n",
              "      <th>Investment in Mutual Fund</th>\n",
              "      <th>Investment Tax Saving Bond</th>\n",
              "      <th>Home Loan</th>\n",
              "      <th>Online Purchase Amount</th>\n",
              "      <th>Investment in Commudity</th>\n",
              "      <th>Investment in Equity</th>\n",
              "      <th>Investment in Derivative</th>\n",
              "      <th>Portfolio Balance</th>\n",
              "      <th>children</th>\n",
              "      <th>gender</th>\n",
              "    </tr>\n",
              "  </thead>\n",
              "  <tbody>\n",
              "    <tr>\n",
              "      <th>count</th>\n",
              "      <td>8124.000000</td>\n",
              "      <td>8124.000000</td>\n",
              "      <td>8124.000000</td>\n",
              "      <td>8124.000000</td>\n",
              "      <td>8124.000000</td>\n",
              "      <td>8124.000000</td>\n",
              "      <td>8124.000000</td>\n",
              "      <td>8124.000000</td>\n",
              "      <td>8124.000000</td>\n",
              "      <td>8124.000000</td>\n",
              "      <td>8124.000000</td>\n",
              "      <td>8124.000000</td>\n",
              "      <td>8124.000000</td>\n",
              "      <td>8124.000000</td>\n",
              "      <td>8124.000000</td>\n",
              "      <td>8124.000000</td>\n",
              "      <td>8124.000000</td>\n",
              "      <td>8124.000000</td>\n",
              "      <td>8124.000000</td>\n",
              "    </tr>\n",
              "    <tr>\n",
              "      <th>mean</th>\n",
              "      <td>46.533050</td>\n",
              "      <td>1968.430822</td>\n",
              "      <td>23.536013</td>\n",
              "      <td>45.848500</td>\n",
              "      <td>26.857107</td>\n",
              "      <td>64.896397</td>\n",
              "      <td>18.816137</td>\n",
              "      <td>31.832499</td>\n",
              "      <td>25.705244</td>\n",
              "      <td>41.928358</td>\n",
              "      <td>6.055491</td>\n",
              "      <td>4.401269</td>\n",
              "      <td>19.354365</td>\n",
              "      <td>35.991018</td>\n",
              "      <td>21.546958</td>\n",
              "      <td>31.539849</td>\n",
              "      <td>89.368669</td>\n",
              "      <td>0.638971</td>\n",
              "      <td>0.756893</td>\n",
              "    </tr>\n",
              "    <tr>\n",
              "      <th>std</th>\n",
              "      <td>13.511666</td>\n",
              "      <td>179.942993</td>\n",
              "      <td>51.008213</td>\n",
              "      <td>79.870499</td>\n",
              "      <td>53.022363</td>\n",
              "      <td>94.681534</td>\n",
              "      <td>32.094002</td>\n",
              "      <td>45.166539</td>\n",
              "      <td>88.237940</td>\n",
              "      <td>64.665153</td>\n",
              "      <td>12.737090</td>\n",
              "      <td>9.809771</td>\n",
              "      <td>93.045927</td>\n",
              "      <td>42.117391</td>\n",
              "      <td>32.826080</td>\n",
              "      <td>39.877961</td>\n",
              "      <td>108.716211</td>\n",
              "      <td>0.916030</td>\n",
              "      <td>0.428985</td>\n",
              "    </tr>\n",
              "    <tr>\n",
              "      <th>min</th>\n",
              "      <td>19.500000</td>\n",
              "      <td>0.000000</td>\n",
              "      <td>0.000000</td>\n",
              "      <td>0.000000</td>\n",
              "      <td>0.000000</td>\n",
              "      <td>0.000000</td>\n",
              "      <td>0.000000</td>\n",
              "      <td>0.000000</td>\n",
              "      <td>0.000000</td>\n",
              "      <td>0.000000</td>\n",
              "      <td>0.000000</td>\n",
              "      <td>0.000000</td>\n",
              "      <td>0.000000</td>\n",
              "      <td>0.000000</td>\n",
              "      <td>0.000000</td>\n",
              "      <td>0.000000</td>\n",
              "      <td>-77.230000</td>\n",
              "      <td>0.000000</td>\n",
              "      <td>0.000000</td>\n",
              "    </tr>\n",
              "    <tr>\n",
              "      <th>25%</th>\n",
              "      <td>38.000000</td>\n",
              "      <td>1978.000000</td>\n",
              "      <td>0.000000</td>\n",
              "      <td>0.000000</td>\n",
              "      <td>0.000000</td>\n",
              "      <td>0.000000</td>\n",
              "      <td>0.000000</td>\n",
              "      <td>0.000000</td>\n",
              "      <td>0.000000</td>\n",
              "      <td>0.000000</td>\n",
              "      <td>0.000000</td>\n",
              "      <td>0.000000</td>\n",
              "      <td>0.000000</td>\n",
              "      <td>8.090000</td>\n",
              "      <td>4.500000</td>\n",
              "      <td>8.500000</td>\n",
              "      <td>26.375000</td>\n",
              "      <td>0.000000</td>\n",
              "      <td>1.000000</td>\n",
              "    </tr>\n",
              "    <tr>\n",
              "      <th>50%</th>\n",
              "      <td>47.500000</td>\n",
              "      <td>1988.000000</td>\n",
              "      <td>0.000000</td>\n",
              "      <td>16.975000</td>\n",
              "      <td>0.000000</td>\n",
              "      <td>30.000000</td>\n",
              "      <td>0.010000</td>\n",
              "      <td>14.990000</td>\n",
              "      <td>0.000000</td>\n",
              "      <td>23.470000</td>\n",
              "      <td>0.000000</td>\n",
              "      <td>0.000000</td>\n",
              "      <td>0.000000</td>\n",
              "      <td>23.790000</td>\n",
              "      <td>12.820000</td>\n",
              "      <td>20.895000</td>\n",
              "      <td>65.385000</td>\n",
              "      <td>0.000000</td>\n",
              "      <td>1.000000</td>\n",
              "    </tr>\n",
              "    <tr>\n",
              "      <th>75%</th>\n",
              "      <td>57.500000</td>\n",
              "      <td>1994.000000</td>\n",
              "      <td>23.980000</td>\n",
              "      <td>64.970000</td>\n",
              "      <td>34.490000</td>\n",
              "      <td>92.932500</td>\n",
              "      <td>26.970000</td>\n",
              "      <td>45.952500</td>\n",
              "      <td>20.980000</td>\n",
              "      <td>59.460000</td>\n",
              "      <td>5.490000</td>\n",
              "      <td>4.490000</td>\n",
              "      <td>7.980000</td>\n",
              "      <td>50.127500</td>\n",
              "      <td>27.962500</td>\n",
              "      <td>42.392500</td>\n",
              "      <td>125.015000</td>\n",
              "      <td>1.000000</td>\n",
              "      <td>1.000000</td>\n",
              "    </tr>\n",
              "    <tr>\n",
              "      <th>max</th>\n",
              "      <td>73.000000</td>\n",
              "      <td>1999.000000</td>\n",
              "      <td>662.260000</td>\n",
              "      <td>2951.760000</td>\n",
              "      <td>784.820000</td>\n",
              "      <td>2930.410000</td>\n",
              "      <td>591.040000</td>\n",
              "      <td>626.240000</td>\n",
              "      <td>4905.930000</td>\n",
              "      <td>2561.270000</td>\n",
              "      <td>138.560000</td>\n",
              "      <td>162.350000</td>\n",
              "      <td>4306.420000</td>\n",
              "      <td>1231.090000</td>\n",
              "      <td>1279.100000</td>\n",
              "      <td>1771.160000</td>\n",
              "      <td>4283.560000</td>\n",
              "      <td>4.000000</td>\n",
              "      <td>1.000000</td>\n",
              "    </tr>\n",
              "  </tbody>\n",
              "</table>\n",
              "</div>\n",
              "    <div class=\"colab-df-buttons\">\n",
              "\n",
              "  <div class=\"colab-df-container\">\n",
              "    <button class=\"colab-df-convert\" onclick=\"convertToInteractive('df-7d12c809-841a-442b-986b-d1f2f490d066')\"\n",
              "            title=\"Convert this dataframe to an interactive table.\"\n",
              "            style=\"display:none;\">\n",
              "\n",
              "  <svg xmlns=\"http://www.w3.org/2000/svg\" height=\"24px\" viewBox=\"0 -960 960 960\">\n",
              "    <path d=\"M120-120v-720h720v720H120Zm60-500h600v-160H180v160Zm220 220h160v-160H400v160Zm0 220h160v-160H400v160ZM180-400h160v-160H180v160Zm440 0h160v-160H620v160ZM180-180h160v-160H180v160Zm440 0h160v-160H620v160Z\"/>\n",
              "  </svg>\n",
              "    </button>\n",
              "\n",
              "  <style>\n",
              "    .colab-df-container {\n",
              "      display:flex;\n",
              "      gap: 12px;\n",
              "    }\n",
              "\n",
              "    .colab-df-convert {\n",
              "      background-color: #E8F0FE;\n",
              "      border: none;\n",
              "      border-radius: 50%;\n",
              "      cursor: pointer;\n",
              "      display: none;\n",
              "      fill: #1967D2;\n",
              "      height: 32px;\n",
              "      padding: 0 0 0 0;\n",
              "      width: 32px;\n",
              "    }\n",
              "\n",
              "    .colab-df-convert:hover {\n",
              "      background-color: #E2EBFA;\n",
              "      box-shadow: 0px 1px 2px rgba(60, 64, 67, 0.3), 0px 1px 3px 1px rgba(60, 64, 67, 0.15);\n",
              "      fill: #174EA6;\n",
              "    }\n",
              "\n",
              "    .colab-df-buttons div {\n",
              "      margin-bottom: 4px;\n",
              "    }\n",
              "\n",
              "    [theme=dark] .colab-df-convert {\n",
              "      background-color: #3B4455;\n",
              "      fill: #D2E3FC;\n",
              "    }\n",
              "\n",
              "    [theme=dark] .colab-df-convert:hover {\n",
              "      background-color: #434B5C;\n",
              "      box-shadow: 0px 1px 3px 1px rgba(0, 0, 0, 0.15);\n",
              "      filter: drop-shadow(0px 1px 2px rgba(0, 0, 0, 0.3));\n",
              "      fill: #FFFFFF;\n",
              "    }\n",
              "  </style>\n",
              "\n",
              "    <script>\n",
              "      const buttonEl =\n",
              "        document.querySelector('#df-7d12c809-841a-442b-986b-d1f2f490d066 button.colab-df-convert');\n",
              "      buttonEl.style.display =\n",
              "        google.colab.kernel.accessAllowed ? 'block' : 'none';\n",
              "\n",
              "      async function convertToInteractive(key) {\n",
              "        const element = document.querySelector('#df-7d12c809-841a-442b-986b-d1f2f490d066');\n",
              "        const dataTable =\n",
              "          await google.colab.kernel.invokeFunction('convertToInteractive',\n",
              "                                                    [key], {});\n",
              "        if (!dataTable) return;\n",
              "\n",
              "        const docLinkHtml = 'Like what you see? Visit the ' +\n",
              "          '<a target=\"_blank\" href=https://colab.research.google.com/notebooks/data_table.ipynb>data table notebook</a>'\n",
              "          + ' to learn more about interactive tables.';\n",
              "        element.innerHTML = '';\n",
              "        dataTable['output_type'] = 'display_data';\n",
              "        await google.colab.output.renderOutput(dataTable, element);\n",
              "        const docLink = document.createElement('div');\n",
              "        docLink.innerHTML = docLinkHtml;\n",
              "        element.appendChild(docLink);\n",
              "      }\n",
              "    </script>\n",
              "  </div>\n",
              "\n",
              "\n",
              "<div id=\"df-3447caa7-e9b2-4fd6-a40e-7488b09c8a91\">\n",
              "  <button class=\"colab-df-quickchart\" onclick=\"quickchart('df-3447caa7-e9b2-4fd6-a40e-7488b09c8a91')\"\n",
              "            title=\"Suggest charts\"\n",
              "            style=\"display:none;\">\n",
              "\n",
              "<svg xmlns=\"http://www.w3.org/2000/svg\" height=\"24px\"viewBox=\"0 0 24 24\"\n",
              "     width=\"24px\">\n",
              "    <g>\n",
              "        <path d=\"M19 3H5c-1.1 0-2 .9-2 2v14c0 1.1.9 2 2 2h14c1.1 0 2-.9 2-2V5c0-1.1-.9-2-2-2zM9 17H7v-7h2v7zm4 0h-2V7h2v10zm4 0h-2v-4h2v4z\"/>\n",
              "    </g>\n",
              "</svg>\n",
              "  </button>\n",
              "\n",
              "<style>\n",
              "  .colab-df-quickchart {\n",
              "      --bg-color: #E8F0FE;\n",
              "      --fill-color: #1967D2;\n",
              "      --hover-bg-color: #E2EBFA;\n",
              "      --hover-fill-color: #174EA6;\n",
              "      --disabled-fill-color: #AAA;\n",
              "      --disabled-bg-color: #DDD;\n",
              "  }\n",
              "\n",
              "  [theme=dark] .colab-df-quickchart {\n",
              "      --bg-color: #3B4455;\n",
              "      --fill-color: #D2E3FC;\n",
              "      --hover-bg-color: #434B5C;\n",
              "      --hover-fill-color: #FFFFFF;\n",
              "      --disabled-bg-color: #3B4455;\n",
              "      --disabled-fill-color: #666;\n",
              "  }\n",
              "\n",
              "  .colab-df-quickchart {\n",
              "    background-color: var(--bg-color);\n",
              "    border: none;\n",
              "    border-radius: 50%;\n",
              "    cursor: pointer;\n",
              "    display: none;\n",
              "    fill: var(--fill-color);\n",
              "    height: 32px;\n",
              "    padding: 0;\n",
              "    width: 32px;\n",
              "  }\n",
              "\n",
              "  .colab-df-quickchart:hover {\n",
              "    background-color: var(--hover-bg-color);\n",
              "    box-shadow: 0 1px 2px rgba(60, 64, 67, 0.3), 0 1px 3px 1px rgba(60, 64, 67, 0.15);\n",
              "    fill: var(--button-hover-fill-color);\n",
              "  }\n",
              "\n",
              "  .colab-df-quickchart-complete:disabled,\n",
              "  .colab-df-quickchart-complete:disabled:hover {\n",
              "    background-color: var(--disabled-bg-color);\n",
              "    fill: var(--disabled-fill-color);\n",
              "    box-shadow: none;\n",
              "  }\n",
              "\n",
              "  .colab-df-spinner {\n",
              "    border: 2px solid var(--fill-color);\n",
              "    border-color: transparent;\n",
              "    border-bottom-color: var(--fill-color);\n",
              "    animation:\n",
              "      spin 1s steps(1) infinite;\n",
              "  }\n",
              "\n",
              "  @keyframes spin {\n",
              "    0% {\n",
              "      border-color: transparent;\n",
              "      border-bottom-color: var(--fill-color);\n",
              "      border-left-color: var(--fill-color);\n",
              "    }\n",
              "    20% {\n",
              "      border-color: transparent;\n",
              "      border-left-color: var(--fill-color);\n",
              "      border-top-color: var(--fill-color);\n",
              "    }\n",
              "    30% {\n",
              "      border-color: transparent;\n",
              "      border-left-color: var(--fill-color);\n",
              "      border-top-color: var(--fill-color);\n",
              "      border-right-color: var(--fill-color);\n",
              "    }\n",
              "    40% {\n",
              "      border-color: transparent;\n",
              "      border-right-color: var(--fill-color);\n",
              "      border-top-color: var(--fill-color);\n",
              "    }\n",
              "    60% {\n",
              "      border-color: transparent;\n",
              "      border-right-color: var(--fill-color);\n",
              "    }\n",
              "    80% {\n",
              "      border-color: transparent;\n",
              "      border-right-color: var(--fill-color);\n",
              "      border-bottom-color: var(--fill-color);\n",
              "    }\n",
              "    90% {\n",
              "      border-color: transparent;\n",
              "      border-bottom-color: var(--fill-color);\n",
              "    }\n",
              "  }\n",
              "</style>\n",
              "\n",
              "  <script>\n",
              "    async function quickchart(key) {\n",
              "      const quickchartButtonEl =\n",
              "        document.querySelector('#' + key + ' button');\n",
              "      quickchartButtonEl.disabled = true;  // To prevent multiple clicks.\n",
              "      quickchartButtonEl.classList.add('colab-df-spinner');\n",
              "      try {\n",
              "        const charts = await google.colab.kernel.invokeFunction(\n",
              "            'suggestCharts', [key], {});\n",
              "      } catch (error) {\n",
              "        console.error('Error during call to suggestCharts:', error);\n",
              "      }\n",
              "      quickchartButtonEl.classList.remove('colab-df-spinner');\n",
              "      quickchartButtonEl.classList.add('colab-df-quickchart-complete');\n",
              "    }\n",
              "    (() => {\n",
              "      let quickchartButtonEl =\n",
              "        document.querySelector('#df-3447caa7-e9b2-4fd6-a40e-7488b09c8a91 button');\n",
              "      quickchartButtonEl.style.display =\n",
              "        google.colab.kernel.accessAllowed ? 'block' : 'none';\n",
              "    })();\n",
              "  </script>\n",
              "</div>\n",
              "\n",
              "    </div>\n",
              "  </div>\n"
            ]
          },
          "metadata": {},
          "execution_count": 96
        }
      ]
    },
    {
      "cell_type": "code",
      "source": [
        "##### Analysing the Status column ######\n",
        "\n",
        "one_hot_converted_columns = ['status', 'occupation', 'occupation_partner', 'home_status', 'self_employed', 'self_employed_partner', 'TVarea', 'region', 'family_income']\n",
        "\n",
        "encoder = OneHotEncoder()\n",
        "\n",
        "encoder.fit(features_train[one_hot_converted_columns])\n",
        "\n",
        "encoded_data = pd.DataFrame(encoder.transform(features_train[one_hot_converted_columns]).toarray())\n",
        "\n",
        "encoded_data.columns = encoder.get_feature_names_out()\n",
        "\n",
        "features_train.drop(one_hot_converted_columns, axis=1, inplace=True)\n",
        "\n",
        "features_train = pd.concat([features_train, encoded_data], axis=1)"
      ],
      "metadata": {
        "id": "cgSdqM5IhK4s"
      },
      "execution_count": null,
      "outputs": []
    },
    {
      "cell_type": "code",
      "source": [
        "##### Analysing the year last moved column #####\n",
        "columns_remove.append('year_last_moved')\n",
        "features_train.drop(['year_last_moved'], axis=1, inplace=True)\n"
      ],
      "metadata": {
        "id": "6EDTVr4khWSB"
      },
      "execution_count": null,
      "outputs": []
    },
    {
      "cell_type": "code",
      "source": [
        "features_train.info()"
      ],
      "metadata": {
        "colab": {
          "base_uri": "https://localhost:8080/"
        },
        "id": "CLcWvUdkhwez",
        "outputId": "514a8a62-b046-4329-98f7-afcf40496c4a"
      },
      "execution_count": null,
      "outputs": [
        {
          "output_type": "stream",
          "name": "stdout",
          "text": [
            "<class 'pandas.core.frame.DataFrame'>\n",
            "RangeIndex: 8124 entries, 0 to 8123\n",
            "Data columns (total 90 columns):\n",
            " #   Column                                Non-Null Count  Dtype  \n",
            "---  ------                                --------------  -----  \n",
            " 0   age_band                              8124 non-null   float64\n",
            " 1   Average Credit Card Transaction       8124 non-null   float64\n",
            " 2   Balance Transfer                      8124 non-null   float64\n",
            " 3   Term Deposit                          8124 non-null   float64\n",
            " 4   Life Insurance                        8124 non-null   float64\n",
            " 5   Medical Insurance                     8124 non-null   float64\n",
            " 6   Average A/C Balance                   8124 non-null   float64\n",
            " 7   Personal Loan                         8124 non-null   float64\n",
            " 8   Investment in Mutual Fund             8124 non-null   float64\n",
            " 9   Investment Tax Saving Bond            8124 non-null   float64\n",
            " 10  Home Loan                             8124 non-null   float64\n",
            " 11  Online Purchase Amount                8124 non-null   float64\n",
            " 12  Investment in Commudity               8124 non-null   float64\n",
            " 13  Investment in Equity                  8124 non-null   float64\n",
            " 14  Investment in Derivative              8124 non-null   float64\n",
            " 15  Portfolio Balance                     8124 non-null   float64\n",
            " 16  children                              8124 non-null   int64  \n",
            " 17  gender                                8124 non-null   int64  \n",
            " 18  status_Divorced/Separated             8124 non-null   float64\n",
            " 19  status_Partner                        8124 non-null   float64\n",
            " 20  status_Single/Never Married           8124 non-null   float64\n",
            " 21  status_Unknown                        8124 non-null   float64\n",
            " 22  status_Widowed                        8124 non-null   float64\n",
            " 23  occupation_Business Manager           8124 non-null   float64\n",
            " 24  occupation_Housewife                  8124 non-null   float64\n",
            " 25  occupation_Manual Worker              8124 non-null   float64\n",
            " 26  occupation_Other                      8124 non-null   float64\n",
            " 27  occupation_Professional               8124 non-null   float64\n",
            " 28  occupation_Retired                    8124 non-null   float64\n",
            " 29  occupation_Secretarial/Admin          8124 non-null   float64\n",
            " 30  occupation_Student                    8124 non-null   float64\n",
            " 31  occupation_Unknown                    8124 non-null   float64\n",
            " 32  occupation_partner_Business Manager   8124 non-null   float64\n",
            " 33  occupation_partner_Housewife          8124 non-null   float64\n",
            " 34  occupation_partner_Manual Worker      8124 non-null   float64\n",
            " 35  occupation_partner_Other              8124 non-null   float64\n",
            " 36  occupation_partner_Professional       8124 non-null   float64\n",
            " 37  occupation_partner_Retired            8124 non-null   float64\n",
            " 38  occupation_partner_Secretarial/Admin  8124 non-null   float64\n",
            " 39  occupation_partner_Student            8124 non-null   float64\n",
            " 40  occupation_partner_Unknown            8124 non-null   float64\n",
            " 41  home_status_Live in Parental Hom      8124 non-null   float64\n",
            " 42  home_status_Own Home                  8124 non-null   float64\n",
            " 43  home_status_Rent Privately            8124 non-null   float64\n",
            " 44  home_status_Rent from Council/HA      8124 non-null   float64\n",
            " 45  home_status_Unclassified              8124 non-null   float64\n",
            " 46  self_employed_No                      8124 non-null   float64\n",
            " 47  self_employed_Yes                     8124 non-null   float64\n",
            " 48  self_employed_partner_No              8124 non-null   float64\n",
            " 49  self_employed_partner_Yes             8124 non-null   float64\n",
            " 50  TVarea_Anglia                         8124 non-null   float64\n",
            " 51  TVarea_Border                         8124 non-null   float64\n",
            " 52  TVarea_Carlton                        8124 non-null   float64\n",
            " 53  TVarea_Central                        8124 non-null   float64\n",
            " 54  TVarea_Grampian                       8124 non-null   float64\n",
            " 55  TVarea_Granada                        8124 non-null   float64\n",
            " 56  TVarea_HTV                            8124 non-null   float64\n",
            " 57  TVarea_Meridian                       8124 non-null   float64\n",
            " 58  TVarea_Scottish TV                    8124 non-null   float64\n",
            " 59  TVarea_TV South West                  8124 non-null   float64\n",
            " 60  TVarea_Tyne Tees                      8124 non-null   float64\n",
            " 61  TVarea_Ulster                         8124 non-null   float64\n",
            " 62  TVarea_Unknown                        8124 non-null   float64\n",
            " 63  TVarea_Yorkshire                      8124 non-null   float64\n",
            " 64  region_Channel Islands                8124 non-null   float64\n",
            " 65  region_East Anglia                    8124 non-null   float64\n",
            " 66  region_East Midlands                  8124 non-null   float64\n",
            " 67  region_Isle of Man                    8124 non-null   float64\n",
            " 68  region_North                          8124 non-null   float64\n",
            " 69  region_North West                     8124 non-null   float64\n",
            " 70  region_Northern Ireland               8124 non-null   float64\n",
            " 71  region_Scotland                       8124 non-null   float64\n",
            " 72  region_South East                     8124 non-null   float64\n",
            " 73  region_South West                     8124 non-null   float64\n",
            " 74  region_Unknown                        8124 non-null   float64\n",
            " 75  region_Wales                          8124 non-null   float64\n",
            " 76  region_West Midlands                  8124 non-null   float64\n",
            " 77  family_income_< 4,000                 8124 non-null   float64\n",
            " 78  family_income_< 8,000, >= 4,000       8124 non-null   float64\n",
            " 79  family_income_<10,000, >= 8,000       8124 non-null   float64\n",
            " 80  family_income_<12,500, >=10,000       8124 non-null   float64\n",
            " 81  family_income_<15,000, >=12,500       8124 non-null   float64\n",
            " 82  family_income_<17,500, >=15,000       8124 non-null   float64\n",
            " 83  family_income_<20,000, >=17,500       8124 non-null   float64\n",
            " 84  family_income_<22,500, >=20,000       8124 non-null   float64\n",
            " 85  family_income_<25,000, >=22,500       8124 non-null   float64\n",
            " 86  family_income_<27,500, >=25,000       8124 non-null   float64\n",
            " 87  family_income_<30,000, >=27,500       8124 non-null   float64\n",
            " 88  family_income_>=35,000                8124 non-null   float64\n",
            " 89  family_income_Unknown                 8124 non-null   float64\n",
            "dtypes: float64(88), int64(2)\n",
            "memory usage: 5.6 MB\n"
          ]
        }
      ]
    },
    {
      "cell_type": "code",
      "source": [
        "with open('column_sequence.pickle', 'wb') as f:\n",
        "  pickle.dump(list(features_train.columns), f)"
      ],
      "metadata": {
        "id": "2V_ydkPGh4gc"
      },
      "execution_count": null,
      "outputs": []
    },
    {
      "cell_type": "code",
      "source": [
        "###### We need to keep in mind that missing values could be present in the validation and Testing set\n",
        "\n",
        "### Store the names of the columns we removed\n",
        "### Store the unique values in the columns\n",
        "### Store the onehot encoder object\n",
        "\n",
        "with open('columns_to_remove.pickle', 'wb') as f:\n",
        "  pickle.dump(columns_remove, f)\n",
        "\n",
        "with open('column_unique_values.pickle', 'wb') as f:\n",
        "  pickle.dump(train_uniq_values, f)\n",
        "\n",
        "with open('column_encoder.pickle', 'wb') as f:\n",
        "  pickle.dump(encoder, f)\n",
        "\n",
        "with open('missing_value_replacement.pickle', 'wb') as f:\n",
        "  pickle.dump(missing_value_replacement, f)"
      ],
      "metadata": {
        "id": "GWtBH-lIiBOh"
      },
      "execution_count": null,
      "outputs": []
    },
    {
      "cell_type": "code",
      "source": [
        "####### Validation set preprocessing ##########\n",
        "\n",
        "#### Load the required files\n",
        "\n",
        "with open('column_encoder.pickle', 'rb') as f:\n",
        "  encoder = pickle.load(f)\n",
        "\n",
        "with open('column_unique_values.pickle', 'rb') as f:\n",
        "  uniq_values = pickle.load(f)\n",
        "\n",
        "with open('columns_to_remove.pickle', 'rb') as f:\n",
        "  cols_to_remove = pickle.load(f)\n",
        "\n",
        "with open('missing_value_replacement.pickle', 'rb') as f:\n",
        "  missing_replacement = pickle.load(f)\n",
        "\n",
        "with open('column_sequence.pickle', 'rb') as f:\n",
        "  column_seq = pickle.load(f)\n",
        "\n",
        "\n",
        "### Initialize the required predefined functions\n",
        "\n",
        "def children_numeric_converter(children_data, unique_values):\n",
        "  children_data[~(children_data.isin(unique_values))] = \"Zero\" # This replaces every other value to Zero\n",
        "  children_data[children_data=='Zero'] = 0  # Converts Zero to numeric 0\n",
        "  children_data[children_data=='4+'] = 4    # Converts 4+ to 4\n",
        "  children_data = pd.to_numeric(children_data) # Converts children_data to numeric\n",
        "  return children_data\n",
        "\n",
        "def ageband_numeric_converter(ageband_data, uniq_values):\n",
        "\n",
        "  def __split(x):\n",
        "    splits = x.split('-')\n",
        "    left_val = splits[0]\n",
        "    right_val = splits[1]\n",
        "    mean = (float(left_val) + float(right_val))/2\n",
        "    return mean\n",
        "\n",
        "  ageband_data[~(ageband_data.isin(uniq_values))] = '45-50'\n",
        "  ageband_data[ageband_data=='71+'] = '71-75'\n",
        "  ageband_data[ageband_data=='Unknown'] = '45-50'\n",
        "  mean_vals = ageband_data.apply(__split)\n",
        "  return mean_vals\n",
        "\n",
        "def gender_numeric_converter(gender_data, uniq_values):\n",
        "  gender_data[~(gender_data.isin(uniq_values))] = 'Female'\n",
        "  gender_data[gender_data=='Unknown'] = 'Female'\n",
        "  gender_data[gender_data=='Male'] = 0\n",
        "  gender_data[gender_data=='Female'] = 1\n",
        "  gender_data = pd.to_numeric(gender_data)\n",
        "  return gender_data\n",
        "\n",
        "\n",
        "### Preprocessing function\n",
        "\n",
        "def preprocess_val_test(data):\n",
        "  ### Drop columns ####\n",
        "  for column in cols_to_remove:\n",
        "    data.drop([column], axis=1, inplace=True)\n",
        "\n",
        "  children_uniq = uniq_values['children']\n",
        "  children_numeric = children_numeric_converter(data['children'], children_uniq)\n",
        "  data.drop(['children'], axis=1, inplace=True)\n",
        "  data['children'] = children_numeric\n",
        "\n",
        "  ageband_uniq = uniq_values['age_band']\n",
        "  ageband_numeric = ageband_numeric_converter(data['age_band'], ageband_uniq)\n",
        "  data.drop(['age_band'], axis=1, inplace=True)\n",
        "  data['age_band'] = ageband_numeric\n",
        "\n",
        "  gender_uniq = uniq_values['gender']\n",
        "  gender_numeric = gender_numeric_converter(data['gender'], gender_uniq)\n",
        "  data.drop(['gender'], axis=1, inplace=True)\n",
        "  data['gender'] = gender_numeric\n",
        "\n",
        "  ### Missing value Imputation ######\n",
        "  missing_value_columns = list(data.isnull().sum()[data.isnull().sum()>0].index)\n",
        "\n",
        "  for column in missing_value_columns:\n",
        "    replacement_values = missing_replacement[column]\n",
        "    if len(replacement_values) != 1:\n",
        "      replace_with = np.random.choice(replacement_values, data[column].isnull().sum())\n",
        "    else:\n",
        "      replace_with = replacement_values[0]\n",
        "    data[data[column].isnull(), column] = replace_with\n",
        "\n",
        "\n",
        "  #### One hot encoding ######\n",
        "  one_hot_converted_columns = ['status', 'occupation', 'occupation_partner', 'home_status', 'self_employed', 'self_employed_partner', 'TVarea', 'region', 'family_income']\n",
        "  encoded_data = pd.DataFrame(encoder.transform(data[one_hot_converted_columns]).toarray())\n",
        "  encoded_data.columns = encoder.get_feature_names_out()\n",
        "  data.drop(one_hot_converted_columns, axis=1, inplace=True)\n",
        "  data = pd.concat([data, encoded_data], axis=1)\n",
        "\n",
        "  ### Ensure that the column ordering and the columns are same #####\n",
        "  data = data[column_seq]\n",
        "\n",
        "  return data"
      ],
      "metadata": {
        "id": "Ohqa-Y5v3s78"
      },
      "execution_count": null,
      "outputs": []
    },
    {
      "cell_type": "code",
      "source": [
        "features_val = preprocess_val_test(features_val)"
      ],
      "metadata": {
        "colab": {
          "base_uri": "https://localhost:8080/"
        },
        "id": "4D1hAqHwAO1o",
        "outputId": "ac1ab541-443d-41d3-8922-93b8ac80d4ba"
      },
      "execution_count": null,
      "outputs": [
        {
          "output_type": "stream",
          "name": "stderr",
          "text": [
            "<ipython-input-102-6ad48e9d83b9>:24: SettingWithCopyWarning: \n",
            "A value is trying to be set on a copy of a slice from a DataFrame\n",
            "\n",
            "See the caveats in the documentation: https://pandas.pydata.org/pandas-docs/stable/user_guide/indexing.html#returning-a-view-versus-a-copy\n",
            "  children_data[~(children_data.isin(unique_values))] = \"Zero\" # This replaces every other value to Zero\n",
            "<ipython-input-102-6ad48e9d83b9>:25: SettingWithCopyWarning: \n",
            "A value is trying to be set on a copy of a slice from a DataFrame\n",
            "\n",
            "See the caveats in the documentation: https://pandas.pydata.org/pandas-docs/stable/user_guide/indexing.html#returning-a-view-versus-a-copy\n",
            "  children_data[children_data=='Zero'] = 0  # Converts Zero to numeric 0\n",
            "<ipython-input-102-6ad48e9d83b9>:26: SettingWithCopyWarning: \n",
            "A value is trying to be set on a copy of a slice from a DataFrame\n",
            "\n",
            "See the caveats in the documentation: https://pandas.pydata.org/pandas-docs/stable/user_guide/indexing.html#returning-a-view-versus-a-copy\n",
            "  children_data[children_data=='4+'] = 4    # Converts 4+ to 4\n",
            "<ipython-input-102-6ad48e9d83b9>:39: SettingWithCopyWarning: \n",
            "A value is trying to be set on a copy of a slice from a DataFrame\n",
            "\n",
            "See the caveats in the documentation: https://pandas.pydata.org/pandas-docs/stable/user_guide/indexing.html#returning-a-view-versus-a-copy\n",
            "  ageband_data[~(ageband_data.isin(uniq_values))] = '45-50'\n",
            "<ipython-input-102-6ad48e9d83b9>:40: SettingWithCopyWarning: \n",
            "A value is trying to be set on a copy of a slice from a DataFrame\n",
            "\n",
            "See the caveats in the documentation: https://pandas.pydata.org/pandas-docs/stable/user_guide/indexing.html#returning-a-view-versus-a-copy\n",
            "  ageband_data[ageband_data=='71+'] = '71-75'\n",
            "<ipython-input-102-6ad48e9d83b9>:41: SettingWithCopyWarning: \n",
            "A value is trying to be set on a copy of a slice from a DataFrame\n",
            "\n",
            "See the caveats in the documentation: https://pandas.pydata.org/pandas-docs/stable/user_guide/indexing.html#returning-a-view-versus-a-copy\n",
            "  ageband_data[ageband_data=='Unknown'] = '45-50'\n",
            "<ipython-input-102-6ad48e9d83b9>:46: SettingWithCopyWarning: \n",
            "A value is trying to be set on a copy of a slice from a DataFrame\n",
            "\n",
            "See the caveats in the documentation: https://pandas.pydata.org/pandas-docs/stable/user_guide/indexing.html#returning-a-view-versus-a-copy\n",
            "  gender_data[~(gender_data.isin(uniq_values))] = 'Female'\n",
            "<ipython-input-102-6ad48e9d83b9>:47: SettingWithCopyWarning: \n",
            "A value is trying to be set on a copy of a slice from a DataFrame\n",
            "\n",
            "See the caveats in the documentation: https://pandas.pydata.org/pandas-docs/stable/user_guide/indexing.html#returning-a-view-versus-a-copy\n",
            "  gender_data[gender_data=='Unknown'] = 'Female'\n",
            "<ipython-input-102-6ad48e9d83b9>:48: SettingWithCopyWarning: \n",
            "A value is trying to be set on a copy of a slice from a DataFrame\n",
            "\n",
            "See the caveats in the documentation: https://pandas.pydata.org/pandas-docs/stable/user_guide/indexing.html#returning-a-view-versus-a-copy\n",
            "  gender_data[gender_data=='Male'] = 0\n",
            "<ipython-input-102-6ad48e9d83b9>:49: SettingWithCopyWarning: \n",
            "A value is trying to be set on a copy of a slice from a DataFrame\n",
            "\n",
            "See the caveats in the documentation: https://pandas.pydata.org/pandas-docs/stable/user_guide/indexing.html#returning-a-view-versus-a-copy\n",
            "  gender_data[gender_data=='Female'] = 1\n"
          ]
        }
      ]
    },
    {
      "cell_type": "code",
      "source": [
        "features_val.info()"
      ],
      "metadata": {
        "colab": {
          "base_uri": "https://localhost:8080/"
        },
        "id": "HieMO7smActT",
        "outputId": "f1dd6a2a-71ac-48b1-f4f0-f7bf49125b6c"
      },
      "execution_count": null,
      "outputs": [
        {
          "output_type": "stream",
          "name": "stdout",
          "text": [
            "<class 'pandas.core.frame.DataFrame'>\n",
            "RangeIndex: 2031 entries, 0 to 2030\n",
            "Data columns (total 90 columns):\n",
            " #   Column                                Non-Null Count  Dtype  \n",
            "---  ------                                --------------  -----  \n",
            " 0   age_band                              2031 non-null   float64\n",
            " 1   Average Credit Card Transaction       2031 non-null   float64\n",
            " 2   Balance Transfer                      2031 non-null   float64\n",
            " 3   Term Deposit                          2031 non-null   float64\n",
            " 4   Life Insurance                        2031 non-null   float64\n",
            " 5   Medical Insurance                     2031 non-null   float64\n",
            " 6   Average A/C Balance                   2031 non-null   float64\n",
            " 7   Personal Loan                         2031 non-null   float64\n",
            " 8   Investment in Mutual Fund             2031 non-null   float64\n",
            " 9   Investment Tax Saving Bond            2031 non-null   float64\n",
            " 10  Home Loan                             2031 non-null   float64\n",
            " 11  Online Purchase Amount                2031 non-null   float64\n",
            " 12  Investment in Commudity               2031 non-null   float64\n",
            " 13  Investment in Equity                  2031 non-null   float64\n",
            " 14  Investment in Derivative              2031 non-null   float64\n",
            " 15  Portfolio Balance                     2031 non-null   float64\n",
            " 16  children                              2031 non-null   int64  \n",
            " 17  gender                                2031 non-null   int64  \n",
            " 18  status_Divorced/Separated             2031 non-null   float64\n",
            " 19  status_Partner                        2031 non-null   float64\n",
            " 20  status_Single/Never Married           2031 non-null   float64\n",
            " 21  status_Unknown                        2031 non-null   float64\n",
            " 22  status_Widowed                        2031 non-null   float64\n",
            " 23  occupation_Business Manager           2031 non-null   float64\n",
            " 24  occupation_Housewife                  2031 non-null   float64\n",
            " 25  occupation_Manual Worker              2031 non-null   float64\n",
            " 26  occupation_Other                      2031 non-null   float64\n",
            " 27  occupation_Professional               2031 non-null   float64\n",
            " 28  occupation_Retired                    2031 non-null   float64\n",
            " 29  occupation_Secretarial/Admin          2031 non-null   float64\n",
            " 30  occupation_Student                    2031 non-null   float64\n",
            " 31  occupation_Unknown                    2031 non-null   float64\n",
            " 32  occupation_partner_Business Manager   2031 non-null   float64\n",
            " 33  occupation_partner_Housewife          2031 non-null   float64\n",
            " 34  occupation_partner_Manual Worker      2031 non-null   float64\n",
            " 35  occupation_partner_Other              2031 non-null   float64\n",
            " 36  occupation_partner_Professional       2031 non-null   float64\n",
            " 37  occupation_partner_Retired            2031 non-null   float64\n",
            " 38  occupation_partner_Secretarial/Admin  2031 non-null   float64\n",
            " 39  occupation_partner_Student            2031 non-null   float64\n",
            " 40  occupation_partner_Unknown            2031 non-null   float64\n",
            " 41  home_status_Live in Parental Hom      2031 non-null   float64\n",
            " 42  home_status_Own Home                  2031 non-null   float64\n",
            " 43  home_status_Rent Privately            2031 non-null   float64\n",
            " 44  home_status_Rent from Council/HA      2031 non-null   float64\n",
            " 45  home_status_Unclassified              2031 non-null   float64\n",
            " 46  self_employed_No                      2031 non-null   float64\n",
            " 47  self_employed_Yes                     2031 non-null   float64\n",
            " 48  self_employed_partner_No              2031 non-null   float64\n",
            " 49  self_employed_partner_Yes             2031 non-null   float64\n",
            " 50  TVarea_Anglia                         2031 non-null   float64\n",
            " 51  TVarea_Border                         2031 non-null   float64\n",
            " 52  TVarea_Carlton                        2031 non-null   float64\n",
            " 53  TVarea_Central                        2031 non-null   float64\n",
            " 54  TVarea_Grampian                       2031 non-null   float64\n",
            " 55  TVarea_Granada                        2031 non-null   float64\n",
            " 56  TVarea_HTV                            2031 non-null   float64\n",
            " 57  TVarea_Meridian                       2031 non-null   float64\n",
            " 58  TVarea_Scottish TV                    2031 non-null   float64\n",
            " 59  TVarea_TV South West                  2031 non-null   float64\n",
            " 60  TVarea_Tyne Tees                      2031 non-null   float64\n",
            " 61  TVarea_Ulster                         2031 non-null   float64\n",
            " 62  TVarea_Unknown                        2031 non-null   float64\n",
            " 63  TVarea_Yorkshire                      2031 non-null   float64\n",
            " 64  region_Channel Islands                2031 non-null   float64\n",
            " 65  region_East Anglia                    2031 non-null   float64\n",
            " 66  region_East Midlands                  2031 non-null   float64\n",
            " 67  region_Isle of Man                    2031 non-null   float64\n",
            " 68  region_North                          2031 non-null   float64\n",
            " 69  region_North West                     2031 non-null   float64\n",
            " 70  region_Northern Ireland               2031 non-null   float64\n",
            " 71  region_Scotland                       2031 non-null   float64\n",
            " 72  region_South East                     2031 non-null   float64\n",
            " 73  region_South West                     2031 non-null   float64\n",
            " 74  region_Unknown                        2031 non-null   float64\n",
            " 75  region_Wales                          2031 non-null   float64\n",
            " 76  region_West Midlands                  2031 non-null   float64\n",
            " 77  family_income_< 4,000                 2031 non-null   float64\n",
            " 78  family_income_< 8,000, >= 4,000       2031 non-null   float64\n",
            " 79  family_income_<10,000, >= 8,000       2031 non-null   float64\n",
            " 80  family_income_<12,500, >=10,000       2031 non-null   float64\n",
            " 81  family_income_<15,000, >=12,500       2031 non-null   float64\n",
            " 82  family_income_<17,500, >=15,000       2031 non-null   float64\n",
            " 83  family_income_<20,000, >=17,500       2031 non-null   float64\n",
            " 84  family_income_<22,500, >=20,000       2031 non-null   float64\n",
            " 85  family_income_<25,000, >=22,500       2031 non-null   float64\n",
            " 86  family_income_<27,500, >=25,000       2031 non-null   float64\n",
            " 87  family_income_<30,000, >=27,500       2031 non-null   float64\n",
            " 88  family_income_>=35,000                2031 non-null   float64\n",
            " 89  family_income_Unknown                 2031 non-null   float64\n",
            "dtypes: float64(88), int64(2)\n",
            "memory usage: 1.4 MB\n"
          ]
        }
      ]
    },
    {
      "cell_type": "code",
      "source": [],
      "metadata": {
        "id": "1Ii778b9AfeU"
      },
      "execution_count": null,
      "outputs": []
    },
    {
      "cell_type": "code",
      "source": [
        "## Class 2 are low revenue customers and class 1 are high revenue customers\n",
        "## We see that there exists a class imbalance\n",
        "## Class Imbalance is a problem (90% are 2 and 10% are 1)\n",
        "\n",
        "target_train.value_counts()\n",
        "\n",
        "target_train[target_train==2] = 0\n",
        "target_train[target_train==1] = 1\n",
        "\n",
        "target_val[target_val==2] = 0\n",
        "target_val[target_val==1] = 1"
      ],
      "metadata": {
        "id": "nDlwIXEk_XTg"
      },
      "execution_count": null,
      "outputs": []
    },
    {
      "cell_type": "code",
      "source": [
        "###### Simplest algorithm that comes to mind -  Logistic regression , KNN\n",
        "\n",
        "from sklearn.linear_model import LogisticRegression\n",
        "\n",
        "lr = LogisticRegression(max_iter=1000, solver=\"newton-cg\", class_weight={0:1.1, 1:3})\n",
        "\n",
        "lr.fit(features_train, target_train) ### Model training happens"
      ],
      "metadata": {
        "colab": {
          "base_uri": "https://localhost:8080/",
          "height": 92
        },
        "id": "Kq1Ffd2X_afQ",
        "outputId": "af131918-830d-4f0e-8946-bb6e5a505b1e"
      },
      "execution_count": null,
      "outputs": [
        {
          "output_type": "execute_result",
          "data": {
            "text/plain": [
              "LogisticRegression(class_weight={0: 1.1, 1: 3}, max_iter=1000,\n",
              "                   solver='newton-cg')"
            ],
            "text/html": [
              "<style>#sk-container-id-2 {color: black;background-color: white;}#sk-container-id-2 pre{padding: 0;}#sk-container-id-2 div.sk-toggleable {background-color: white;}#sk-container-id-2 label.sk-toggleable__label {cursor: pointer;display: block;width: 100%;margin-bottom: 0;padding: 0.3em;box-sizing: border-box;text-align: center;}#sk-container-id-2 label.sk-toggleable__label-arrow:before {content: \"▸\";float: left;margin-right: 0.25em;color: #696969;}#sk-container-id-2 label.sk-toggleable__label-arrow:hover:before {color: black;}#sk-container-id-2 div.sk-estimator:hover label.sk-toggleable__label-arrow:before {color: black;}#sk-container-id-2 div.sk-toggleable__content {max-height: 0;max-width: 0;overflow: hidden;text-align: left;background-color: #f0f8ff;}#sk-container-id-2 div.sk-toggleable__content pre {margin: 0.2em;color: black;border-radius: 0.25em;background-color: #f0f8ff;}#sk-container-id-2 input.sk-toggleable__control:checked~div.sk-toggleable__content {max-height: 200px;max-width: 100%;overflow: auto;}#sk-container-id-2 input.sk-toggleable__control:checked~label.sk-toggleable__label-arrow:before {content: \"▾\";}#sk-container-id-2 div.sk-estimator input.sk-toggleable__control:checked~label.sk-toggleable__label {background-color: #d4ebff;}#sk-container-id-2 div.sk-label input.sk-toggleable__control:checked~label.sk-toggleable__label {background-color: #d4ebff;}#sk-container-id-2 input.sk-hidden--visually {border: 0;clip: rect(1px 1px 1px 1px);clip: rect(1px, 1px, 1px, 1px);height: 1px;margin: -1px;overflow: hidden;padding: 0;position: absolute;width: 1px;}#sk-container-id-2 div.sk-estimator {font-family: monospace;background-color: #f0f8ff;border: 1px dotted black;border-radius: 0.25em;box-sizing: border-box;margin-bottom: 0.5em;}#sk-container-id-2 div.sk-estimator:hover {background-color: #d4ebff;}#sk-container-id-2 div.sk-parallel-item::after {content: \"\";width: 100%;border-bottom: 1px solid gray;flex-grow: 1;}#sk-container-id-2 div.sk-label:hover label.sk-toggleable__label {background-color: #d4ebff;}#sk-container-id-2 div.sk-serial::before {content: \"\";position: absolute;border-left: 1px solid gray;box-sizing: border-box;top: 0;bottom: 0;left: 50%;z-index: 0;}#sk-container-id-2 div.sk-serial {display: flex;flex-direction: column;align-items: center;background-color: white;padding-right: 0.2em;padding-left: 0.2em;position: relative;}#sk-container-id-2 div.sk-item {position: relative;z-index: 1;}#sk-container-id-2 div.sk-parallel {display: flex;align-items: stretch;justify-content: center;background-color: white;position: relative;}#sk-container-id-2 div.sk-item::before, #sk-container-id-2 div.sk-parallel-item::before {content: \"\";position: absolute;border-left: 1px solid gray;box-sizing: border-box;top: 0;bottom: 0;left: 50%;z-index: -1;}#sk-container-id-2 div.sk-parallel-item {display: flex;flex-direction: column;z-index: 1;position: relative;background-color: white;}#sk-container-id-2 div.sk-parallel-item:first-child::after {align-self: flex-end;width: 50%;}#sk-container-id-2 div.sk-parallel-item:last-child::after {align-self: flex-start;width: 50%;}#sk-container-id-2 div.sk-parallel-item:only-child::after {width: 0;}#sk-container-id-2 div.sk-dashed-wrapped {border: 1px dashed gray;margin: 0 0.4em 0.5em 0.4em;box-sizing: border-box;padding-bottom: 0.4em;background-color: white;}#sk-container-id-2 div.sk-label label {font-family: monospace;font-weight: bold;display: inline-block;line-height: 1.2em;}#sk-container-id-2 div.sk-label-container {text-align: center;}#sk-container-id-2 div.sk-container {/* jupyter's `normalize.less` sets `[hidden] { display: none; }` but bootstrap.min.css set `[hidden] { display: none !important; }` so we also need the `!important` here to be able to override the default hidden behavior on the sphinx rendered scikit-learn.org. See: https://github.com/scikit-learn/scikit-learn/issues/21755 */display: inline-block !important;position: relative;}#sk-container-id-2 div.sk-text-repr-fallback {display: none;}</style><div id=\"sk-container-id-2\" class=\"sk-top-container\"><div class=\"sk-text-repr-fallback\"><pre>LogisticRegression(class_weight={0: 1.1, 1: 3}, max_iter=1000,\n",
              "                   solver=&#x27;newton-cg&#x27;)</pre><b>In a Jupyter environment, please rerun this cell to show the HTML representation or trust the notebook. <br />On GitHub, the HTML representation is unable to render, please try loading this page with nbviewer.org.</b></div><div class=\"sk-container\" hidden><div class=\"sk-item\"><div class=\"sk-estimator sk-toggleable\"><input class=\"sk-toggleable__control sk-hidden--visually\" id=\"sk-estimator-id-2\" type=\"checkbox\" checked><label for=\"sk-estimator-id-2\" class=\"sk-toggleable__label sk-toggleable__label-arrow\">LogisticRegression</label><div class=\"sk-toggleable__content\"><pre>LogisticRegression(class_weight={0: 1.1, 1: 3}, max_iter=1000,\n",
              "                   solver=&#x27;newton-cg&#x27;)</pre></div></div></div></div></div>"
            ]
          },
          "metadata": {},
          "execution_count": 108
        }
      ]
    },
    {
      "cell_type": "code",
      "source": [
        "##### Model prediction here ######\n",
        "\n",
        "tr_pred = lr.predict(features_train) #### Training prediction\n",
        "val_pred = lr.predict(features_val)"
      ],
      "metadata": {
        "id": "HnXgvNiC_lPC"
      },
      "execution_count": null,
      "outputs": []
    },
    {
      "cell_type": "code",
      "source": [
        "##### Models performance\n",
        "\n",
        "from sklearn.metrics import ConfusionMatrixDisplay, f1_score\n",
        "\n",
        "ConfusionMatrixDisplay.from_predictions(target_train, tr_pred)"
      ],
      "metadata": {
        "colab": {
          "base_uri": "https://localhost:8080/",
          "height": 467
        },
        "id": "L4V_HxLST3Z8",
        "outputId": "6bdca1ac-719d-49c8-d481-7c54170d51e9"
      },
      "execution_count": null,
      "outputs": [
        {
          "output_type": "execute_result",
          "data": {
            "text/plain": [
              "<sklearn.metrics._plot.confusion_matrix.ConfusionMatrixDisplay at 0x7f96cb80f670>"
            ]
          },
          "metadata": {},
          "execution_count": 110
        },
        {
          "output_type": "display_data",
          "data": {
            "text/plain": [
              "<Figure size 640x480 with 2 Axes>"
            ],
            "image/png": "[encoded data removed]"
          },
          "metadata": {}
        }
      ]
    },
    {
      "cell_type": "code",
      "source": [
        "train_f1 = f1_score(target_train, tr_pred)\n",
        "val_f1 = f1_score(target_val, val_pred)\n",
        "\n",
        "print('Train F1 Score - {}'.format(train_f1))\n",
        "print('Val F1 Score - {}'.format(val_f1))\n",
        "\n",
        "#### Looking at the Train and Val F1 scores, we can safely say that the Logistic regression is an underfit model"
      ],
      "metadata": {
        "colab": {
          "base_uri": "https://localhost:8080/"
        },
        "id": "SBkCCkGCT6UR",
        "outputId": "76041e8b-8dde-47ce-b745-213248ab1d1c"
      },
      "execution_count": null,
      "outputs": [
        {
          "output_type": "stream",
          "name": "stdout",
          "text": [
            "Train F1 Score - 0.7569060773480664\n",
            "Val F1 Score - 0.7024608501118568\n"
          ]
        }
      ]
    },
    {
      "cell_type": "code",
      "source": [
        "##### Random Forest #########\n",
        "\n",
        "from sklearn.ensemble import RandomForestClassifier\n",
        "\n",
        "clf = RandomForestClassifier(max_depth=10,\n",
        "                             n_estimators=1000,\n",
        "                             class_weight={0:1.2, 1:4},\n",
        "                             min_samples_split=70,\n",
        "                             min_samples_leaf=1)\n",
        "\n",
        "clf.fit(features_train, target_train)"
      ],
      "metadata": {
        "colab": {
          "base_uri": "https://localhost:8080/",
          "height": 92
        },
        "id": "prKjL1eeUIcN",
        "outputId": "87ad9296-3624-4acc-f557-c6baaa3d3e46"
      },
      "execution_count": null,
      "outputs": [
        {
          "output_type": "execute_result",
          "data": {
            "text/plain": [
              "RandomForestClassifier(class_weight={0: 1.2, 1: 4}, max_depth=10,\n",
              "                       min_samples_split=70, n_estimators=1000)"
            ],
            "text/html": [
              "<style>#sk-container-id-3 {color: black;background-color: white;}#sk-container-id-3 pre{padding: 0;}#sk-container-id-3 div.sk-toggleable {background-color: white;}#sk-container-id-3 label.sk-toggleable__label {cursor: pointer;display: block;width: 100%;margin-bottom: 0;padding: 0.3em;box-sizing: border-box;text-align: center;}#sk-container-id-3 label.sk-toggleable__label-arrow:before {content: \"▸\";float: left;margin-right: 0.25em;color: #696969;}#sk-container-id-3 label.sk-toggleable__label-arrow:hover:before {color: black;}#sk-container-id-3 div.sk-estimator:hover label.sk-toggleable__label-arrow:before {color: black;}#sk-container-id-3 div.sk-toggleable__content {max-height: 0;max-width: 0;overflow: hidden;text-align: left;background-color: #f0f8ff;}#sk-container-id-3 div.sk-toggleable__content pre {margin: 0.2em;color: black;border-radius: 0.25em;background-color: #f0f8ff;}#sk-container-id-3 input.sk-toggleable__control:checked~div.sk-toggleable__content {max-height: 200px;max-width: 100%;overflow: auto;}#sk-container-id-3 input.sk-toggleable__control:checked~label.sk-toggleable__label-arrow:before {content: \"▾\";}#sk-container-id-3 div.sk-estimator input.sk-toggleable__control:checked~label.sk-toggleable__label {background-color: #d4ebff;}#sk-container-id-3 div.sk-label input.sk-toggleable__control:checked~label.sk-toggleable__label {background-color: #d4ebff;}#sk-container-id-3 input.sk-hidden--visually {border: 0;clip: rect(1px 1px 1px 1px);clip: rect(1px, 1px, 1px, 1px);height: 1px;margin: -1px;overflow: hidden;padding: 0;position: absolute;width: 1px;}#sk-container-id-3 div.sk-estimator {font-family: monospace;background-color: #f0f8ff;border: 1px dotted black;border-radius: 0.25em;box-sizing: border-box;margin-bottom: 0.5em;}#sk-container-id-3 div.sk-estimator:hover {background-color: #d4ebff;}#sk-container-id-3 div.sk-parallel-item::after {content: \"\";width: 100%;border-bottom: 1px solid gray;flex-grow: 1;}#sk-container-id-3 div.sk-label:hover label.sk-toggleable__label {background-color: #d4ebff;}#sk-container-id-3 div.sk-serial::before {content: \"\";position: absolute;border-left: 1px solid gray;box-sizing: border-box;top: 0;bottom: 0;left: 50%;z-index: 0;}#sk-container-id-3 div.sk-serial {display: flex;flex-direction: column;align-items: center;background-color: white;padding-right: 0.2em;padding-left: 0.2em;position: relative;}#sk-container-id-3 div.sk-item {position: relative;z-index: 1;}#sk-container-id-3 div.sk-parallel {display: flex;align-items: stretch;justify-content: center;background-color: white;position: relative;}#sk-container-id-3 div.sk-item::before, #sk-container-id-3 div.sk-parallel-item::before {content: \"\";position: absolute;border-left: 1px solid gray;box-sizing: border-box;top: 0;bottom: 0;left: 50%;z-index: -1;}#sk-container-id-3 div.sk-parallel-item {display: flex;flex-direction: column;z-index: 1;position: relative;background-color: white;}#sk-container-id-3 div.sk-parallel-item:first-child::after {align-self: flex-end;width: 50%;}#sk-container-id-3 div.sk-parallel-item:last-child::after {align-self: flex-start;width: 50%;}#sk-container-id-3 div.sk-parallel-item:only-child::after {width: 0;}#sk-container-id-3 div.sk-dashed-wrapped {border: 1px dashed gray;margin: 0 0.4em 0.5em 0.4em;box-sizing: border-box;padding-bottom: 0.4em;background-color: white;}#sk-container-id-3 div.sk-label label {font-family: monospace;font-weight: bold;display: inline-block;line-height: 1.2em;}#sk-container-id-3 div.sk-label-container {text-align: center;}#sk-container-id-3 div.sk-container {/* jupyter's `normalize.less` sets `[hidden] { display: none; }` but bootstrap.min.css set `[hidden] { display: none !important; }` so we also need the `!important` here to be able to override the default hidden behavior on the sphinx rendered scikit-learn.org. See: https://github.com/scikit-learn/scikit-learn/issues/21755 */display: inline-block !important;position: relative;}#sk-container-id-3 div.sk-text-repr-fallback {display: none;}</style><div id=\"sk-container-id-3\" class=\"sk-top-container\"><div class=\"sk-text-repr-fallback\"><pre>RandomForestClassifier(class_weight={0: 1.2, 1: 4}, max_depth=10,\n",
              "                       min_samples_split=70, n_estimators=1000)</pre><b>In a Jupyter environment, please rerun this cell to show the HTML representation or trust the notebook. <br />On GitHub, the HTML representation is unable to render, please try loading this page with nbviewer.org.</b></div><div class=\"sk-container\" hidden><div class=\"sk-item\"><div class=\"sk-estimator sk-toggleable\"><input class=\"sk-toggleable__control sk-hidden--visually\" id=\"sk-estimator-id-3\" type=\"checkbox\" checked><label for=\"sk-estimator-id-3\" class=\"sk-toggleable__label sk-toggleable__label-arrow\">RandomForestClassifier</label><div class=\"sk-toggleable__content\"><pre>RandomForestClassifier(class_weight={0: 1.2, 1: 4}, max_depth=10,\n",
              "                       min_samples_split=70, n_estimators=1000)</pre></div></div></div></div></div>"
            ]
          },
          "metadata": {},
          "execution_count": 112
        }
      ]
    },
    {
      "cell_type": "code",
      "source": [
        "tr_pred = clf.predict(features_train) #### Training prediction\n",
        "val_pred = clf.predict(features_val)\n",
        "\n",
        "ConfusionMatrixDisplay.from_predictions(target_train, tr_pred)\n",
        "ConfusionMatrixDisplay.from_predictions(target_val, val_pred)\n"
      ],
      "metadata": {
        "colab": {
          "base_uri": "https://localhost:8080/",
          "height": 899
        },
        "id": "Yk8SNquoUKrl",
        "outputId": "f60370a3-7d04-4428-a341-74a88bd76549"
      },
      "execution_count": null,
      "outputs": [
        {
          "output_type": "execute_result",
          "data": {
            "text/plain": [
              "<sklearn.metrics._plot.confusion_matrix.ConfusionMatrixDisplay at 0x7f96cb051ed0>"
            ]
          },
          "metadata": {},
          "execution_count": 113
        },
        {
          "output_type": "display_data",
          "data": {
            "text/plain": [
              "<Figure size 640x480 with 2 Axes>"
            ],
            "image/png": "[encoded data removed]"
          },
          "metadata": {}
        },
        {
          "output_type": "display_data",
          "data": {
            "text/plain": [
              "<Figure size 640x480 with 2 Axes>"
            ],
            "image/png": "[encoded data removed]"
          },
          "metadata": {}
        }
      ]
    },
    {
      "cell_type": "code",
      "source": [
        "train_f1 = f1_score(target_train, tr_pred)\n",
        "val_f1 = f1_score(target_val, val_pred)\n",
        "\n",
        "print('Train F1 Score - {}'.format(train_f1))\n",
        "print('Val F1 Score - {}'.format(val_f1))"
      ],
      "metadata": {
        "id": "pdnQ-ecMUVgO",
        "outputId": "4e5a6759-467e-4511-cd6a-66235d418aef",
        "colab": {
          "base_uri": "https://localhost:8080/"
        }
      },
      "execution_count": null,
      "outputs": [
        {
          "output_type": "stream",
          "name": "stdout",
          "text": [
            "Train F1 Score - 0.87248322147651\n",
            "Val F1 Score - 0.7674943566591422\n"
          ]
        }
      ]
    }
  ]
}